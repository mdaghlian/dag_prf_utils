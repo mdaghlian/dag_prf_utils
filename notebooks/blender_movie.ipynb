{
 "cells": [
  {
   "attachments": {},
   "cell_type": "markdown",
   "metadata": {},
   "source": [
    "# MORE EXPERIMENTAL - can we make a movie on the surface using blender? Yes!"
   ]
  },
  {
   "cell_type": "code",
   "execution_count": null,
   "metadata": {},
   "outputs": [],
   "source": [
    "%load_ext autoreload\n",
    "%autoreload 2\n",
    "import numpy as np\n",
    "import os\n"
   ]
  },
  {
   "cell_type": "code",
   "execution_count": null,
   "metadata": {},
   "outputs": [],
   "source": [
    "# FOR MY OWN TESTING OF THIS EXAMPLE FOLDER\n",
    "fs_dir = '/data1/projects/dumoulinlab/Lab_members/Marcus/projects/pilot1/derivatives/freesurfer'\n",
    "from pfa_scripts.load_saved_info import *\n",
    "# Movies too!\n",
    "sub='sub-02'\n",
    "ts = load_data_tc(sub, 'AS0')['AS0']"
   ]
  },
  {
   "attachments": {},
   "cell_type": "markdown",
   "metadata": {},
   "source": [
    "### Blender\n",
    "* requires freesurfer and blender\n",
    "* a powerful approach and allows for a lot of customization (due to the blender api flexibility, which can be called via python)\n",
    "* The script will load the inflated and pial mesh, with the option to slide between the 2 (i.e. customize how inflated you want the surface to be)\n",
    "* You can load several colormaps at once, and flip between them \n",
    "* If you are feeling adventurous, you can even create an animation over time, (e.g., plot timecourse info on the surface). This is a bit experimental, and may take up a lot of data and computing power. I haven't fully explored it. \n"
   ]
  },
  {
   "cell_type": "code",
   "execution_count": null,
   "metadata": {},
   "outputs": [],
   "source": [
    "from dag_prf_utils.blender_tools import BlendMaker\n"
   ]
  },
  {
   "cell_type": "code",
   "execution_count": null,
   "metadata": {},
   "outputs": [],
   "source": [
    "\n",
    "# ts = ts[:,:10]\n",
    "from dag_prf_utils.blender_tools import BlendMaker\n",
    "bm = BlendMaker(\n",
    "    sub=sub,\n",
    "    fs_dir=fs_dir,\n",
    "    output_dir='z_blend',    \n",
    "    ow=False, \n",
    ")\n",
    "# This will create a folder with 4 .ply meshes\n",
    "# -> left-inflated, right-inflated, left-pial, right-pial\n",
    "# & 2 csv files with rgb information for:\n",
    "# -> cortical curvature, cortical thickness\n",
    "from dag_prf_utils.cmap_functions import dag_get_col_vals\n",
    "# Convert the time series to a movie\n",
    "b_movie = dag_get_col_vals(ts, cmap='RdBu_r', vmin=-1, vmax=1)\n",
    "b_movie = b_movie.astype(np.float32)\n",
    "\n",
    "np.savez_compressed('z_blend/movie.npz', movie=b_movie)\n",
    "bm.launch_blender()"
   ]
  },
  {
   "cell_type": "code",
   "execution_count": null,
   "metadata": {},
   "outputs": [],
   "source": [
    "\n",
    "bm.launch_blender(\n",
    "    run_blender=True,\n",
    ")"
   ]
  },
  {
   "cell_type": "code",
   "execution_count": null,
   "metadata": {},
   "outputs": [],
   "source": [
    "bp_script_add_animation='''\n",
    "# ADD ANIMATION TO VERTEX COLOR LAYERS...\n",
    "obj = bpy.data.objects[hemi_list[0]]\n",
    "\n",
    "total_n_layers = len(obj.data.vertex_colors)\n",
    "layer_names = list(obj.data.vertex_colors.keys())\n",
    "def set_vcols(frame):\n",
    "        \n",
    "    layer_to_plot = int(total_n_layers * frame / total_n_frames)            \n",
    "\n",
    "    if layer_to_plot>total_n_layers:\n",
    "        layer_to_plot = total_n_layers\n",
    "    for hemi in hemi_list:\n",
    "        bpy.data.meshes[hemi].attributes.active_color_index = layer_to_plot#layer_names[layer_to_plot]\n",
    "\n",
    "def my_handler(scene):\n",
    "    frame = scene.frame_current\n",
    "    set_vcols(frame)\n",
    "\n",
    "bpy.app.handlers.frame_change_pre.append(my_handler) \n",
    "'''"
   ]
  }
 ],
 "metadata": {
  "kernelspec": {
   "display_name": "dag_mcmc",
   "language": "python",
   "name": "python3"
  },
  "language_info": {
   "codemirror_mode": {
    "name": "ipython",
    "version": 3
   },
   "file_extension": ".py",
   "mimetype": "text/x-python",
   "name": "python",
   "nbconvert_exporter": "python",
   "pygments_lexer": "ipython3",
   "version": "3.9.16"
  },
  "orig_nbformat": 4
 },
 "nbformat": 4,
 "nbformat_minor": 2
}
