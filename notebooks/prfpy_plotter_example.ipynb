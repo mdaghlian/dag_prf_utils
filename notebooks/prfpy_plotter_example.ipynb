{
 "cells": [
  {
   "attachments": {},
   "cell_type": "markdown",
   "metadata": {},
   "source": [
    "# PRFPY plotter example\n",
    "\n",
    "How to do plotting from prfpy outputs"
   ]
  },
  {
   "cell_type": "code",
   "execution_count": null,
   "metadata": {},
   "outputs": [],
   "source": [
    "%load_ext autoreload\n",
    "%autoreload 2\n",
    "import numpy as np\n",
    "import os\n",
    "from dag_prf_utils.prfpy_ts_plotter import TSPlotter\n"
   ]
  },
  {
   "cell_type": "code",
   "execution_count": null,
   "metadata": {},
   "outputs": [],
   "source": [
    "# What is the index of the output of prfpy\n",
    "# When fitting with prfpy - the output is a numpy array of shape\n",
    "# n voxels x n parameters\n",
    "\n",
    "# I translate them to there named versions using this: \n",
    "\n",
    "def prfpy_params_dict():\n",
    "    '''\n",
    "    Easy look up table for prfpy model parameters\n",
    "    name to index...\n",
    "    '''\n",
    "    p_order = {}\n",
    "    # [1] gauss. Note hrf_1, and hrf_2 are idx 5 and 6, if fit...\n",
    "    p_order['gauss'] = {\n",
    "        'x'             :  0, # mu_x\n",
    "        'y'             :  1, # mu_y\n",
    "        'size_1'        :  2, # size\n",
    "        'amp_1'         :  3, # beta\n",
    "        'bold_baseline' :  4, # baseline \n",
    "        'hrf_deriv'     :  5, # *hrf_1\n",
    "        'hrf_disp'      :  6, # *hrf_2\n",
    "        'rsq'           : -1, # ... \n",
    "    }    \n",
    "    # [2] css. Note hrf_1, and hrf_2 are idx 6 and 7, if fit...\n",
    "    p_order['css'] = {\n",
    "        'x'             :  0, # mu_x\n",
    "        'y'             :  1, # mu_y\n",
    "        'size_1'        :  2, # size\n",
    "        'amp_1'         :  3, # beta\n",
    "        'bold_baseline' :  4, # baseline \n",
    "        'n_exp'         :  5, # n\n",
    "        'hrf_deriv'     :  6, # *hrf_1\n",
    "        'hrf_disp'      :  7, # *hrf_2        \n",
    "        'rsq'           : -1, # ... \n",
    "    }\n",
    "\n",
    "    # [3] dog. Note hrf_1, and hrf_2 are idx 7 and 8, if fit...\n",
    "    p_order['dog'] = {\n",
    "        'x'             :  0, # mu_x\n",
    "        'y'             :  1, # mu_y\n",
    "        'size_1'        :  2, # prf_size\n",
    "        'amp_1'         :  3, # prf_amplitude\n",
    "        'bold_baseline' :  4, # bold_baseline \n",
    "        'amp_2'         :  5, # srf_amplitude\n",
    "        'size_2'        :  6, # srf_size\n",
    "        'hrf_deriv'     :  7, # *hrf_1\n",
    "        'hrf_disp'      :  8, # *hrf_2        \n",
    "        'rsq'           : -1, # ... \n",
    "    }\n",
    "\n",
    "    p_order['norm'] = {\n",
    "        'x'             :  0, # mu_x\n",
    "        'y'             :  1, # mu_y\n",
    "        'size_1'        :  2, # prf_size\n",
    "        'amp_1'         :  3, # prf_amplitude\n",
    "        'bold_baseline' :  4, # bold_baseline \n",
    "        'amp_2'         :  5, # srf_amplitude\n",
    "        'size_2'        :  6, # srf_size\n",
    "        'b_val'         :  7, # neural_baseline \n",
    "        'd_val'         :  8, # surround_baseline\n",
    "        'hrf_deriv'     :  9, # *hrf_1\n",
    "        'hrf_disp'      : 10, # *hrf_2        \n",
    "        'rsq'           : -1, # rsq\n",
    "    }            \n",
    "\n",
    "    p_order['csf']  ={\n",
    "        'width_r'       : 0,\n",
    "        'SFp'           : 1,\n",
    "        'CSp'          : 2,\n",
    "        'width_l'       : 3,\n",
    "        'crf_exp'       : 4,\n",
    "        'amp_1'         : 5,\n",
    "        'bold_baseline' : 6,\n",
    "        'hrf_1'         : 7,\n",
    "        'hrf_2'         : 8,\n",
    "        'rsq'           : -1,\n",
    "    }\n",
    "\n",
    "    return p_order\n"
   ]
  },
  {
   "cell_type": "code",
   "execution_count": null,
   "metadata": {},
   "outputs": [],
   "source": [
    "# Quick tutorial on what is possible:\n",
    "prf_params = ... # Load the numpy array you get out of prfpy \n",
    "# -> i.e., fitter.iterative_search_params \n",
    "prfpy_model = ... # prfpy.model object (which contains the design matrix). You needed this to do the fitting\n",
    "# e.g., \n",
    "prfpy_model = prfpy.model.Iso2DGaussianModel(\n",
    "    ... # whatever you put in here for the fitting\n",
    ")\n",
    "\n",
    "# Load the real_ts (i.e. the data)\n",
    "real_ts = ... # nvoxes x time points\n",
    "\n",
    "prf_plotter = TSPlotter(\n",
    "    prf_params=prf_params,             # Put the numpy array you get out of prfpy \n",
    "    model = 'gauss',            # name of the model type 'gauss', 'norm', 'dog', 'css' are options\n",
    "    real_ts = real_ts,              # numpy array of the data used to do the fitting\n",
    "    prfpy_model = prfpy_model,\n",
    ")"
   ]
  },
  {
   "cell_type": "code",
   "execution_count": null,
   "metadata": {},
   "outputs": [],
   "source": [
    "# Now what can you do?\n",
    "# want to look at the parameters, now in pd.DataFrame, with useful labels!\n",
    "print(prf_plotter.pd_params)\n"
   ]
  },
  {
   "cell_type": "code",
   "execution_count": null,
   "metadata": {},
   "outputs": [],
   "source": [
    "# Want to find which voxels fit some criteria? i.e., only look at good fits?\n",
    "binary_mask = prf_plotter.return_vx_mask(th={\n",
    "    'min-rsq' : 0.1, # only include fits with rsq > 0.1\n",
    "    'max-ecc' : 5, # only include fits where the location is inside a certain eccentricity    \n",
    "})\n",
    "# You can apply any threshold to any parameter in .pd_params \n",
    "# Options include:\n",
    "#       min,max,bound,eq\n",
    "\n",
    "print(f'Total number of voxels in binary mask = {binary_mask.sum()}')\n",
    "print(f'Out of a total of {binary_mask.shape[0]}')\n"
   ]
  },
  {
   "cell_type": "code",
   "execution_count": null,
   "metadata": {},
   "outputs": [],
   "source": [
    "# Some plotting stuff:\n",
    "# -> visual field\n",
    "prf_plotter.visual_field(\n",
    "    th={'min-rsq': 0.1}, # only plot voxels with good rsq\n",
    "    dot_col='rsq', # color the dots by the rsq \n",
    "    dot_vmin=0, dot_vmax=1, cmap='viridis', # set colorbar properties\n",
    "    dot_size=10, # control the size of the dots\n",
    ")"
   ]
  },
  {
   "cell_type": "code",
   "execution_count": null,
   "metadata": {},
   "outputs": [],
   "source": [
    "# More plotting stuff\n",
    "# -> histograms: specify any parameter in .pd_params, and any threshold...\n",
    "prf_plotter.hist(\n",
    "    param='x', th={'min-rsq':.1} , \n",
    ")"
   ]
  },
  {
   "cell_type": "code",
   "execution_count": null,
   "metadata": {},
   "outputs": [],
   "source": [
    "# More plotting stuff\n",
    "# -> scatter plots: scatter any parameter with any other... \n",
    "prf_plotter.scatter(\n",
    "    px='ecc', py='size_1', th={'min-rsq':.1}\n",
    ")"
   ]
  },
  {
   "cell_type": "code",
   "execution_count": null,
   "metadata": {},
   "outputs": [],
   "source": [
    "# -> plot time course\n",
    "# plot the time series for voxel with index=0\n",
    "# will plot the data; the prediction; also the receptive field\n",
    "# it should also plot the parameter values somewhere\n",
    "_ = prf_plotter.prf_ts_plot(idx=0)"
   ]
  }
 ],
 "metadata": {
  "kernelspec": {
   "display_name": "prf_fix",
   "language": "python",
   "name": "python3"
  },
  "language_info": {
   "codemirror_mode": {
    "name": "ipython",
    "version": 3
   },
   "file_extension": ".py",
   "mimetype": "text/x-python",
   "name": "python",
   "nbconvert_exporter": "python",
   "pygments_lexer": "ipython3",
   "version": "3.13.1"
  },
  "orig_nbformat": 4
 },
 "nbformat": 4,
 "nbformat_minor": 2
}
