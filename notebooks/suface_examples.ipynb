{
 "cells": [
  {
   "attachments": {},
   "cell_type": "markdown",
   "metadata": {},
   "source": [
    "# dag_prf_utils demos\n",
    "\n",
    "A basic overview on surface plotting, and colormaps: \n",
    "\n",
    "More details in surface plotting in other notebooks\n",
    "\n",
    "[1] Freeview: There are also a bunch of command line tools you can use with this. For quick useable stuff. Essentially all plotting requires freesurfer, so it is worth getting used to this. \n",
    "\n",
    "[2] Pycortex: beautiful. If you dig into it there are also many cool things you can do with hosting etc. However, some aspects are a little buggy / browser dependent. In particular plotting with 2D colormaps which is important for PRF mapping. \n",
    "\n",
    "[3] Plotly + dash based. I really like using this, allows you to do some cool interactive things. (also option for single htmls, less interactive though). \n",
    "\n",
    "Other formats...\n",
    "\n",
    "[4] Generic .ply based plotting (export to a .ply mesh. Open with meshlab)\n",
    "\n",
    "[5] Blender\n",
    "\n",
    "[6] Colormaps\n",
    "\n"
   ]
  },
  {
   "cell_type": "code",
   "execution_count": 4,
   "metadata": {},
   "outputs": [
    {
     "name": "stdout",
     "output_type": "stream",
     "text": [
      "The autoreload extension is already loaded. To reload it, use:\n",
      "  %reload_ext autoreload\n"
     ]
    }
   ],
   "source": [
    "%load_ext autoreload\n",
    "%autoreload 2\n",
    "import numpy as np\n",
    "import os\n",
    "from dag_prf_utils.prfpy_ts_plotter import *\n"
   ]
  },
  {
   "cell_type": "code",
   "execution_count": null,
   "metadata": {},
   "outputs": [
    {
     "name": "stdout",
     "output_type": "stream",
     "text": [
      "/data1/projects/dumoulinlab/Lab_members/Marcus/projects/pilot1/derivatives/prf_no_hrf/sub-02/ses-1/sub-02_model-gauss_roi-all_task-AS0-fits_stage-iter_constr-tc_desc-prf_params.pkl\n",
      "prf_params.shape[-1]=8\n",
      "include hrf = True\n",
      "include rsq = True\n"
     ]
    }
   ],
   "source": [
    "# FOR MY OWN TESTING OF THIS EXAMPLE FOLDER\n",
    "# -> Freesurfer directory\n",
    "sub = 'sub-02'\n",
    "fs_dir = '/data1/projects/dumoulinlab/Lab_members/Marcus/projects/pilot1/derivatives/freesurfer'\n",
    "\n",
    "# -> load design matrix, time series and prfpy parameters from one of my projects\n",
    "# \n",
    "from pfa_scripts.load_saved_info import *\n",
    "prfpy_numpy_array = load_data_prf('sub-02', 'AS0', 'gauss')['AS0']['gauss']\n",
    "time_series = load_data_tc(sub=sub, ses='ses-1', task_list='AS0', )['AS0']\n",
    "design_matrix = get_design_matrix_npy(['AS0'])['AS0'][:,:,5:]         \n",
    "\n",
    "# Create prfpy stimulus & model\n",
    "assert design_matrix.shape[-1]==time_series.shape[-1]\n",
    "prf_stim = PRFStimulus2D(\n",
    "    screen_size_cm=39.3,                                    # height of the screen (i.e., the diameter of the stimulated region)    \n",
    "    screen_distance_cm=196,                                 # Distance of screen to eye\n",
    "    design_matrix=design_matrix,                            # dm (npix x npix x time_points)\n",
    "    TR=1.5,                                                 # TR\n",
    "    )   \n",
    "prfpy_model = Iso2DGaussianModel(stimulus=prf_stim)\n",
    "\n",
    "# Now make the \"ts plotter\": which will make plotting our prf information very easy\n",
    "prfs  = TSPlotter(\n",
    "    prf_params=prfpy_numpy_array,\n",
    "    model='gauss',\n",
    "    prfpy_model=prfpy_model,\n",
    "    real_ts=time_series\n",
    ")\n",
    "\n",
    "# If you don't want to work with prfpy directly -> just load your own version for some of these\n",
    "# ** Control visibility of data ** [using mask, or alpha, or both...] \n",
    "# If you don't want to show the values of every point (for example because it is outside the visual cortex). You may want to hide it. \n",
    "# If you are plotting PRFs, then you may want to hide the bad fits. So you can create a mask for where the rsq<threshold (e.g., 0.1)\n",
    "# data_mask: what to show (TRUE), what to hide (FALSE)\n",
    "# -> should boolean 1D np.ndarray, where the length = number of vertices in subject surface\n",
    "# -> if unspecified, all surface functions assume TRUE for all voxels\n",
    "# data_alpha: transparency (invisible = 0), (opaque = 1).\n",
    "# Often you will do this based on the rsquared of your model\n",
    "\n",
    "polar_angle_data = prfs.pd_params['pol'].to_numpy()\n",
    "eccentricity_data = prfs.pd_params['ecc'].to_numpy()\n",
    "data_mask = prfs.return_vx_mask(th={'min-rsq':.1, 'max-ecc':5})\n",
    "data_rsq = prfs.pd_params['rsq'].to_numpy()\n",
    "data_alpha = data_rsq.copy()\n"
   ]
  },
  {
   "cell_type": "code",
   "execution_count": null,
   "metadata": {},
   "outputs": [],
   "source": [
    "# sub = 'sub-02'                                      # Subject number\n",
    "# fs_dir = '~/home/project1/derivatives/freesurfer'   # e.g., /home/project1/derivatives/freesurfer\n",
    "\n",
    "# # Load some data to plot on the surface (e.g., PRF eccentricity and polar angle):\n",
    "# # -> should 1D np.ndarray, where the length = number of vertices in subject surface\n",
    "\n",
    "# polar_angle_data = np.load('path/to/subjects/polar/angle/data')\n",
    "# eccentricity_data = np.load('path/to/subjects/polar/angle/data')\n",
    "\n",
    "\n",
    "\n",
    "# data_mask = np.load('path/to/some/mask')\n",
    "\n",
    "# -> should be 1D np.ndarray, min=0, max=1.  where the length = number of vertices in subject surface\n",
    "# -> you could for example take the rsquared values of PRF fits and use this to determine the visibility of the prf data...\n",
    "# data_alpha = np.load('path/to/some/alpha/values')\n",
    "\n"
   ]
  },
  {
   "attachments": {},
   "cell_type": "markdown",
   "metadata": {},
   "source": [
    "### [1] Using freeview\n",
    "* requires freeview \n",
    "* Specify the data, the mesh, and the mask (you can only use binary masking, the option for varying the transparency is not available here). \n",
    "* scripts will create a custom surf file, and the command (which contains the colormap info) to open it in freeview\n",
    "* The colormap can be anything from matplotlib. Just specify the min and max values. (https://matplotlib.org/stable/tutorials/colors/colormaps.html)\n",
    "* You can also specify the camera angle for when freeview opens, and ask it to automatically take a picture of the surface. This can be useful if you want to iterate through several subjects/surface plots and save the figures as pngs, but can't be bothered to sit and click again and again... "
   ]
  },
  {
   "cell_type": "code",
   "execution_count": 7,
   "metadata": {},
   "outputs": [
    {
     "name": "stdout",
     "output_type": "stream",
     "text": [
      "Using fs dir = /data1/projects/dumoulinlab/Lab_members/Marcus/projects/pilot1/derivatives/freesurfer\n",
      "marco_pol exists\n",
      "Saving sub-02-polar_angle in /data1/projects/dumoulinlab/Lab_members/Marcus/projects/pilot1/derivatives/freesurfer/sub-02/surf/custom\n",
      "ecc exists\n",
      "Saving sub-02-eccentricity in /data1/projects/dumoulinlab/Lab_members/Marcus/projects/pilot1/derivatives/freesurfer/sub-02/surf/custom\n"
     ]
    }
   ],
   "source": [
    "from dag_prf_utils.fs_tools import FSMaker\n",
    "fs = FSMaker(sub=sub,fs_dir=fs_dir)\n",
    "\n",
    "# Add polar angle plot\n",
    "fs.add_surface(\n",
    "    data = polar_angle_data,\n",
    "    surf_name = f'{sub}-polar_angle',    \n",
    "    vmin = -3.14, vmax=3.14, # min and max values of polar anlge \n",
    "    data_mask=data_mask,\n",
    "    cmap = 'marco_pol', # A colleague (Marco Aqil) suggested this custom color map for polar angles. I called it 'marco_pol'\n",
    ")\n",
    "\n",
    "# Add eccentricity\n",
    "fs.add_surface(\n",
    "    data = eccentricity_data,\n",
    "    surf_name = f'{sub}-eccentricity',    \n",
    "    vmin = 0, vmax = 5, # min and max values of eccentricity\n",
    "    data_mask=data_mask,\n",
    "    cmap = 'ecc', # Also a custom map for eccentricity, which scales nicely. (again you can use anything you like, including developing your own. ) \n",
    ")"
   ]
  },
  {
   "cell_type": "code",
   "execution_count": 8,
   "metadata": {},
   "outputs": [
    {
     "name": "stdout",
     "output_type": "stream",
     "text": [
      "freeview -f  lh.inflated:overlay=/data1/projects/dumoulinlab/Lab_members/Marcus/projects/pilot1/derivatives/freesurfer/sub-02/surf/custom/lh.sub-02-polar_angle:overlay_custom=-3.14,255,0,0,-2.81,255,166,0,-2.48,186,220,0,-2.15,29,142,0,-1.82,0,223,191,-1.49,0,160,255,-1.16,0,43,255,-0.83,97,53,248,-0.50,235,128,238,-0.17,249,41,76,0.17,255,81,0,0.50,252,253,0,0.83,104,179,0,1.16,0,157,58,1.49,0,235,215,1.82,0,125,255,2.15,27,15,253,2.48,174,95,242,2.81,243,84,155,3.14,255,0,0, rh.inflated:overlay=/data1/projects/dumoulinlab/Lab_members/Marcus/projects/pilot1/derivatives/freesurfer/sub-02/surf/custom/rh.sub-02-polar_angle:overlay_custom=-3.14,255,0,0,-2.81,255,166,0,-2.48,186,220,0,-2.15,29,142,0,-1.82,0,223,191,-1.49,0,160,255,-1.16,0,43,255,-0.83,97,53,248,-0.50,235,128,238,-0.17,249,41,76,0.17,255,81,0,0.50,252,253,0,0.83,104,179,0,1.16,0,157,58,1.49,0,235,215,1.82,0,125,255,2.15,27,15,253,2.48,174,95,242,2.81,243,84,155,3.14,255,0,0, --camera Azimuth 90 Zoom 1 Elevation 0 Roll 0 --colorscale  --verbose  --viewport 3d --viewsize 99999 99999 --nocursor \n",
      "freeview -f  lh.inflated:overlay=/data1/projects/dumoulinlab/Lab_members/Marcus/projects/pilot1/derivatives/freesurfer/sub-02/surf/custom/lh.sub-02-polar_angle:overlay_custom=-3.14,255,0,0,-2.81,255,166,0,-2.48,186,220,0,-2.15,29,142,0,-1.82,0,223,191,-1.49,0,160,255,-1.16,0,43,255,-0.83,97,53,248,-0.50,235,128,238,-0.17,249,41,76,0.17,255,81,0,0.50,252,253,0,0.83,104,179,0,1.16,0,157,58,1.49,0,235,215,1.82,0,125,255,2.15,27,15,253,2.48,174,95,242,2.81,243,84,155,3.14,255,0,0, rh.inflated:overlay=/data1/projects/dumoulinlab/Lab_members/Marcus/projects/pilot1/derivatives/freesurfer/sub-02/surf/custom/rh.sub-02-polar_angle:overlay_custom=-3.14,255,0,0,-2.81,255,166,0,-2.48,186,220,0,-2.15,29,142,0,-1.82,0,223,191,-1.49,0,160,255,-1.16,0,43,255,-0.83,97,53,248,-0.50,235,128,238,-0.17,249,41,76,0.17,255,81,0,0.50,252,253,0,0.83,104,179,0,1.16,0,157,58,1.49,0,235,215,1.82,0,125,255,2.15,27,15,253,2.48,174,95,242,2.81,243,84,155,3.14,255,0,0, --camera Azimuth 90 Zoom 1 Elevation 0 Roll 0 --colorscale  --verbose  --viewport 3d --viewsize 99999 99999 --nocursor \n"
     ]
    },
    {
     "name": "stderr",
     "output_type": "stream",
     "text": [
      "QXcbConnection: XCB error: 11 (BadAlloc), sequence: 1394, resource id: 1307, major code: 53 (CreatePixmap), minor code: 0\n",
      "QXcbConnection: XCB error: 4 (BadPixmap), sequence: 1624, resource id: 54526050, major code: 54 (FreePixmap), minor code: 0\n",
      "QXcbConnection: XCB error: 4 (BadPixmap), sequence: 1624, resource id: 54526050, major code: 54 (FreePixmap), minor code: 0\n"
     ]
    }
   ],
   "source": [
    "# Now we can open one of the surfaces in freeview\n",
    "fs.open_fs_surface(\n",
    "    surf_name=f'{sub}-polar_angle',\n",
    "    mesh = 'inflated',          # what type of surface? inflated? pial?\n",
    "    )"
   ]
  },
  {
   "cell_type": "markdown",
   "metadata": {},
   "source": [
    "I've written many possible things you can do with this. See the notes for 'write_fs_cmd'\n",
    "\n",
    "For write_fs_cmd\n",
    "        '''\n",
    "        Write the bash command to open the specific surface with the overlay\n",
    "\n",
    "        **kwargs \n",
    "        surf_name       which surface(s) to open (of the custom ones you have made)\n",
    "        mesh_list       which mesh(es) to plot the surface info on (e.g., inflated, pial...)\n",
    "        hemi_list       which hemispheres to load\n",
    "        roi_list        which roi outlines to load\n",
    "        roi_col_spec    if loading rois, what color? If not specified will do different colors for each nes     \n",
    "        roi_mask        mask by roi?\n",
    "        keep_running    keep running the command (use \"&\" at the end of the command). Useful if you want to take many screen shots.\n",
    "        shading_off     Turn of shading? i.e., don't make it darker underneath. Default is false        \n",
    "        do_scrn_shot    bool            take a screenshot of the surface when it is loaded?\n",
    "        scr_shot_file   str             Where to put the screenshot. If not specified goes in custom surface dir\n",
    "        azimuth         float           camera angle(0-360) Default: 0\n",
    "        zoom            float           camera zoom         Default: 1.00\n",
    "        elevation       float           camera angle(0-360) Default: 0\n",
    "        roll            float           camera angle(0-360) Default: 0        \n",
    "        do_col_bar      bool            show color bar at the end. Default is true\n",
    "        '''\n",
    "\n",
    "See also dag_make_overlay_str"
   ]
  },
  {
   "cell_type": "code",
   "execution_count": 9,
   "metadata": {},
   "outputs": [
    {
     "name": "stdout",
     "output_type": "stream",
     "text": [
      "freeview -f  lh.inflated:overlay=/data1/projects/dumoulinlab/Lab_members/Marcus/projects/pilot1/derivatives/freesurfer/sub-02/surf/custom/lh.sub-02-polar_angle:overlay_custom=-3.14,255,0,0,-2.81,255,166,0,-2.48,186,220,0,-2.15,29,142,0,-1.82,0,223,191,-1.49,0,160,255,-1.16,0,43,255,-0.83,97,53,248,-0.50,235,128,238,-0.17,249,41,76,0.17,255,81,0,0.50,252,253,0,0.83,104,179,0,1.16,0,157,58,1.49,0,235,215,1.82,0,125,255,2.15,27,15,253,2.48,174,95,242,2.81,243,84,155,3.14,255,0,0, --camera Azimuth 10 Zoom 1 Elevation 5 Roll 0 --colorscale --ss /data1/projects/dumoulinlab/Lab_members/Marcus/programs/dag_prf_utils/notebooks/z_screenshots/eg.png 5 autotrim  --verbose  --viewport 3d --viewsize 99999 99999 --nocursor \n",
      "freeview -f  lh.inflated:overlay=/data1/projects/dumoulinlab/Lab_members/Marcus/projects/pilot1/derivatives/freesurfer/sub-02/surf/custom/lh.sub-02-polar_angle:overlay_custom=-3.14,255,0,0,-2.81,255,166,0,-2.48,186,220,0,-2.15,29,142,0,-1.82,0,223,191,-1.49,0,160,255,-1.16,0,43,255,-0.83,97,53,248,-0.50,235,128,238,-0.17,249,41,76,0.17,255,81,0,0.50,252,253,0,0.83,104,179,0,1.16,0,157,58,1.49,0,235,215,1.82,0,125,255,2.15,27,15,253,2.48,174,95,242,2.81,243,84,155,3.14,255,0,0, --camera Azimuth 10 Zoom 1 Elevation 5 Roll 0 --colorscale --ss /data1/projects/dumoulinlab/Lab_members/Marcus/programs/dag_prf_utils/notebooks/z_screenshots/eg.png 5 autotrim  --verbose  --viewport 3d --viewsize 99999 99999 --nocursor \n"
     ]
    },
    {
     "name": "stderr",
     "output_type": "stream",
     "text": [
      "QXcbConnection: XCB error: 11 (BadAlloc), sequence: 1253, resource id: 1307, major code: 53 (CreatePixmap), minor code: 0\n",
      "QXcbConnection: XCB error: 11 (BadAlloc), sequence: 1253, resource id: 1307, major code: 53 (CreatePixmap), minor code: 0\n",
      "QXcbConnection: XCB error: 4 (BadPixmap), sequence: 1604, resource id: 54526045, major code: 54 (FreePixmap), minor code: 0\n",
      "QXcbConnection: XCB error: 4 (BadPixmap), sequence: 1604, resource id: 54526045, major code: 54 (FreePixmap), minor code: 0\n"
     ]
    }
   ],
   "source": [
    "# Maybe we want to open with a specific cameram angle and take a screenshot?\n",
    "scr_shot_file = './z_screenshots'\n",
    "if not os.path.exists(scr_shot_file):\n",
    "    os.makedirs(scr_shot_file)\n",
    "scr_shot_file = os.path.abspath(scr_shot_file)\n",
    "fs.open_fs_surface(\n",
    "    surf_name=f'{sub}-polar_angle',\n",
    "    mesh = 'inflated',          # what type of surface? inflated? pial?\n",
    "    hemi_list= 'lh', \n",
    "    do_scr_shot = True,\n",
    "    scr_shot_file = os.path.join(scr_shot_file,'eg.png'), # Where to put it?\n",
    "    # *** camera angles ***\n",
    "    azimuth = 10, zoom = 1, elevation=5, roll=0, \n",
    "    )"
   ]
  },
  {
   "cell_type": "markdown",
   "metadata": {},
   "source": [
    "Command line options\n",
    "Inside /bin/\n",
    "\n",
    "See the functions themselves for specifics  \n",
    "```\n",
    "\n",
    "dag_auto_FS_surf_from_file          Automatically make freesurfer surfaces given a .npy or pickle file (i.e., from saved prf parameters)\n",
    "\n",
    "dag_clean_custom_surfs              Remove custom surfaces put in the subjects FS dir\n",
    "\n",
    "dag_make_fs_overlay                 Make an fs_overlay (something you can load in freesurfer to determine the colomap)\n",
    "\n",
    "dag_open_sub_surf                   Open any subjects surface in there custom surf folder, inside freesurfer (i.e. surfaces that you have made before)\n",
    "\n",
    "dag_print_custom_rois               Print all the rois matching a certain pattern in a FS folder\n",
    "\n",
    "dag_print_custom_surfs              Print all the surfaces matching a certain pattern in a FS folder\n",
    "\n",
    "```"
   ]
  },
  {
   "cell_type": "markdown",
   "metadata": {},
   "source": [
    "***"
   ]
  },
  {
   "cell_type": "markdown",
   "metadata": {},
   "source": [
    "### Using pycortex\n",
    "* requires pycortex \n",
    "* as above"
   ]
  },
  {
   "cell_type": "code",
   "execution_count": 10,
   "metadata": {},
   "outputs": [
    {
     "name": "stdout",
     "output_type": "stream",
     "text": [
      "Using fs dir = /data1/projects/dumoulinlab/Lab_members/Marcus/projects/pilot1/derivatives/freesurfer\n",
      "/data1/projects/dumoulinlab/Lab_members/Marcus/projects/pilot1/derivatives/pycortex\n",
      "default\n",
      "/data1/projects/dumoulinlab/Lab_members/Marcus/projects/pilot1/derivatives/pycortex/sub-02\n"
     ]
    }
   ],
   "source": [
    "from dag_prf_utils.pycortex import set_ctx_path,PyctxMaker\n",
    "# Make sure pycortex is pointing to correct folder\n",
    "ctx_path = '/data1/projects/dumoulinlab/Lab_members/Marcus/projects/pilot1/derivatives/pycortex'\n",
    "set_ctx_path(ctx_path)\n",
    "\n",
    "pm = PyctxMaker(\n",
    "    sub = sub,\n",
    "    fs_dir = fs_dir, \n",
    "    output_dir = 'z_pyctx',\n",
    "    ctx_path=ctx_path,\n",
    "    )\n",
    "# Add polar angle plot\n",
    "pm.add_vertex_obj(\n",
    "    data = polar_angle_data,\n",
    "    surf_name = f'{sub}-polar_angle',    \n",
    "    vmin = -3.14, vmax=3.14, # min and max values of polar anlge \n",
    "    data_mask=data_mask,\n",
    "    cmap = 'marco_pol', # A colleague (Marco Aqil) suggested this custom color map for polar angles. I called it 'marco_pol'\n",
    ")\n",
    "\n",
    "# Add eccentricity\n",
    "pm.add_vertex_obj(\n",
    "    data = eccentricity_data,\n",
    "    surf_name = f'{sub}-eccentricity',    \n",
    "    vmin = 0, vmax = 5, # min and max values of eccentricity\n",
    "    data_mask=data_mask,\n",
    "    cmap = 'ecc2', # Also a custom map for eccentricity, which scales nicely. (again you can use anything you like, including developing your own. ) \n",
    ")\n"
   ]
  },
  {
   "cell_type": "code",
   "execution_count": 11,
   "metadata": {},
   "outputs": [
    {
     "data": {
      "image/png": "[encoded data removed]",
      "text/plain": [
       "<Figure size 432x122.4 with 2 Axes>"
      ]
     },
     "metadata": {
      "needs_background": "light"
     },
     "output_type": "display_data"
    }
   ],
   "source": [
    "# To open from here:\n",
    "pm.return_pyc_saver(\n",
    "    save_cm=True,\n",
    "    viewer=False, # open or don;t open the webviewer\n",
    ")\n",
    "\n",
    "\n",
    "# To save as a static file \n",
    "pm.pyc.to_static(filename='blah_static') # to save as static file \n",
    "# to run just do \n",
    "# python -m http.server 8000 \n",
    "# open http://localhost:8000 in browser\n"
   ]
  },
  {
   "cell_type": "markdown",
   "metadata": {},
   "source": [
    "***"
   ]
  },
  {
   "cell_type": "markdown",
   "metadata": {},
   "source": [
    "### Plotly plotting\n",
    "* requires plotly library (conda install)\n",
    "* You can plot a mesh inline in a notebook! \n",
    "* You can also export it to an html file, which any computer can read! They will be able to interact with it too\n",
    "* Can put more than one in a single html (i.e., subfigures)\n",
    "* Also an online interactive clicky thing!\n"
   ]
  },
  {
   "cell_type": "code",
   "execution_count": 12,
   "metadata": {},
   "outputs": [],
   "source": [
    "from plotly.subplots import make_subplots\n",
    "import plotly.graph_objects as go\n",
    "from dag_prf_utils.mesh_dash import dag_mesh_pickle, MeshDash"
   ]
  },
  {
   "cell_type": "markdown",
   "metadata": {},
   "source": [
    "##### To make interactive dash in browser\n",
    "You can toggle the:\n",
    "* rsq threshold\n",
    "* inflation (pial-inflated)\n",
    "* colormaps (any possible matplolib); vmin, vmax\n",
    "* show ROIs, or not... "
   ]
  },
  {
   "cell_type": "code",
   "execution_count": 13,
   "metadata": {},
   "outputs": [
    {
     "name": "stdout",
     "output_type": "stream",
     "text": [
      "Using fs dir = /data1/projects/dumoulinlab/Lab_members/Marcus/projects/pilot1/derivatives/freesurfer\n",
      "Adding offset to mesh...\n",
      "Adding offset to mesh...\n",
      "Adding offset to mesh...\n",
      "Adding offset to mesh...\n",
      "Adding offset to mesh...\n",
      "Adding offset to mesh...\n"
     ]
    }
   ],
   "source": [
    "\n",
    "fs = MeshDash(\n",
    "    sub, \n",
    "    fs_dir=fs_dir,\n",
    "    output_dir='z_dash',\n",
    "    )\n",
    "fs.web_get_ready()\n",
    "fs.web_add_vx_col(\n",
    "    data=polar_angle_data,\n",
    "    data4mask =data_rsq,\n",
    "    vmin=-np.pi, vmax=np.pi, \n",
    "    cmap='marco_pol', \n",
    "    vx_col_name=f'pol'\n",
    ")\n",
    "\n",
    "fs.web_add_vx_col(\n",
    "    data=eccentricity_data, \n",
    "    data4mask =data_rsq,\n",
    "    cmap='ecc2', \n",
    "    vmin=0, vmax=5, \n",
    "    vx_col_name=f'ecc'\n",
    ")\n",
    "\n",
    "# Other cool things....\n",
    "# you can add ROIs\n",
    "fs.web_add_roi(roi_list='V1')\n",
    "\n",
    "# You can also add conditional functions to do plotting. \n",
    "# For example if you have a function to plot the timeseries put that here \n",
    "def my_plot_function(vertex_id):\n",
    "    fig = plt.figure()\n",
    "    # Do some plotting based on the vertex...\n",
    "    return fig\n",
    "\n",
    "fs.web_add_mpl_fig_maker(my_plot_function) # you can add more than one...\n",
    "\n"
   ]
  },
  {
   "cell_type": "code",
   "execution_count": 14,
   "metadata": {},
   "outputs": [],
   "source": [
    "# To launch app from here \n",
    "# app = fs.web_launch_with_dash(assets_type='boring') # change to exciting to use silly fonts...\n",
    "# Open the app in a browser (or in the notebook)\n",
    "# app.run_server(mode='external', host='127.0.0.1', port=8000, debug=False, use_reloader=False) \n",
    "# Go to localhost:8000 in your browser to see the app."
   ]
  },
  {
   "cell_type": "code",
   "execution_count": 15,
   "metadata": {},
   "outputs": [
    {
     "name": "stdout",
     "output_type": "stream",
     "text": [
      "pickling mesh_dash object to : z_dash/mesh_dash.pkl\n"
     ]
    }
   ],
   "source": [
    "# To save it to a pickle \n",
    "dag_mesh_pickle(fs) # dumps it as a pickle file\n",
    "\n",
    "# Use /bin/dag_open_dash_surf <pickle-file> to open and launch the file again\n",
    "# If you get the error\n",
    "# PicklingError: Can't pickle <class 'dag_prf_utils.mesh_dash.MeshDash'>: it's not the same object as dag_prf_utils.mesh_dash.MeshDash\n",
    "# Try restarting your kernel and running again..."
   ]
  },
  {
   "cell_type": "markdown",
   "metadata": {},
   "source": [
    "Also can do automatic loading of prf parameter files \n",
    "\n",
    "bin/dag_auto_dash_surf_from_file "
   ]
  },
  {
   "cell_type": "markdown",
   "metadata": {},
   "source": [
    "##### To export html files (don't bother with dash, less interactive)"
   ]
  },
  {
   "cell_type": "code",
   "execution_count": 16,
   "metadata": {},
   "outputs": [
    {
     "name": "stdout",
     "output_type": "stream",
     "text": [
      "Using fs dir = /data1/projects/dumoulinlab/Lab_members/Marcus/projects/pilot1/derivatives/freesurfer\n",
      "Adding offset to mesh...\n",
      "Adding offset to mesh...\n",
      "Adding offset to mesh...\n",
      "Adding offset to mesh...\n",
      "Adding offset to mesh...\n",
      "Adding offset to mesh...\n",
      "No vx to mask\n",
      "No vx to mask\n",
      "No vx to mask\n",
      "No vx to mask\n"
     ]
    }
   ],
   "source": [
    "\n",
    "gmm = MeshDash(\n",
    "    sub=sub, \n",
    "    fs_dir=fs_dir,\n",
    "    output_dir='z_gmm_plotly') # Make the 'generic mesh maker' instance\n",
    "# Make 2 plots side by side showing polar angle and eccentricity\n",
    "\n",
    "n_rows = 1\n",
    "n_cols = 2\n",
    "\n",
    "# Create plotly fig with subplots\n",
    "fig = make_subplots(rows=n_rows, cols=n_cols, specs=[[{'type': 'surface'}]*n_cols]*n_rows, )\n",
    "# First polar angle\n",
    "mesh_plot = gmm.add_plotly_surface(\n",
    "    data=polar_angle_data, \n",
    "    data_mask=data_mask, \n",
    "    cmap='marco_pol', \n",
    "    vmin=-3.14, \n",
    "    vmax=3.14,\n",
    "    return_mesh_obj=True,\n",
    ")\n",
    "fig.append_trace(mesh_plot[0], row=1, col=1) # Add left hemisphere\n",
    "# fig.append_trace(mesh_plot[1], row=1, col=1) # Add right hemisphere\n",
    "\n",
    "# Same again for eccentricity\n",
    "mesh_plot = gmm.add_plotly_surface(\n",
    "    data=eccentricity_data, \n",
    "    data_mask=data_mask, \n",
    "    cmap='ecc', \n",
    "    vmin=0, \n",
    "    vmax=5,\n",
    "    return_mesh_obj=True,\n",
    ")\n",
    "fig.append_trace(mesh_plot[0], row=1, col=2) # Add left hemisphere\n",
    "# fig.append_trace(mesh_plot[1], row=1, col=2) # Add right hemisphere\n"
   ]
  },
  {
   "cell_type": "code",
   "execution_count": 17,
   "metadata": {},
   "outputs": [],
   "source": [
    "\n",
    "# Now show the figure inline in the notebook\n",
    "# Play around with the different surfaces\n",
    "# fig.show() # show inline\n",
    "# fig.show(renderer='browser') # show with browser\n"
   ]
  },
  {
   "cell_type": "code",
   "execution_count": 18,
   "metadata": {},
   "outputs": [],
   "source": [
    "# You can also create an HTML file. Save it and open it with your browser\n",
    "fig.write_html('z_eg_plotly_html.html')"
   ]
  },
  {
   "cell_type": "markdown",
   "metadata": {},
   "source": [
    "***"
   ]
  },
  {
   "cell_type": "markdown",
   "metadata": {},
   "source": [
    "### Generic .ply format\n",
    "* requires freesurfer + any software capable of opening .ply files. My suggestion is MeshLab\n",
    "* Specify the data, the mesh, and the mask (including an option for variable transparency). \n",
    "* can create a single .ply file (per hemisphere), which contains all the information about the mesh (vx coordinates, face id); the data values for each vertex, and a color value for each vertex (determined by the data, and specified colormap). \n",
    "* This can be opened by most 3D viewing software (e.g., meshlab, blender)...\n"
   ]
  },
  {
   "cell_type": "code",
   "execution_count": 19,
   "metadata": {},
   "outputs": [
    {
     "name": "stdout",
     "output_type": "stream",
     "text": [
      "Using fs dir = /data1/projects/dumoulinlab/Lab_members/Marcus/projects/pilot1/derivatives/freesurfer\n",
      "Adding offset to mesh...\n",
      "Adding offset to mesh...\n",
      "Adding offset to mesh...\n",
      "Adding offset to mesh...\n",
      "Adding offset to mesh...\n",
      "Adding offset to mesh...\n",
      "File to be named: polar-angle\n",
      "Writing: polar-angle for sub-02\n",
      "File to be named: eccentricity\n",
      "Writing: eccentricity for sub-02\n"
     ]
    }
   ],
   "source": [
    "from dag_prf_utils.mesh_maker import GenMeshMaker\n",
    "# Make the 'generic mesh maker' instance\n",
    "gmm = GenMeshMaker(\n",
    "    sub=sub, \n",
    "    fs_dir=fs_dir,\n",
    "    output_dir='z_gmm_ply') \n",
    "\n",
    "# Create the .ply surfaces\n",
    "gmm.add_ply_surface(\n",
    "    surf_name='polar-angle',\n",
    "    data=polar_angle_data, \n",
    "    data_mask=data_mask, \n",
    "    cmap='marco_pol', \n",
    "    vmin=-3.14, \n",
    "    vmax=3.14,\n",
    ")\n",
    "\n",
    "# Same again for eccentricity\n",
    "gmm.add_ply_surface(\n",
    "    surf_name='eccentricity',\n",
    "    data=eccentricity_data, \n",
    "    data_mask=data_mask, \n",
    "    cmap='ecc', \n",
    "    vmin=0, \n",
    "    vmax=5,\n",
    ")"
   ]
  },
  {
   "cell_type": "code",
   "execution_count": 20,
   "metadata": {},
   "outputs": [
    {
     "name": "stderr",
     "output_type": "stream",
     "text": [
      "/data1/projects/dumoulinlab/Lab_members/Marcus/programs/MeshLab2022.02-linux/usr/bin/meshlab: error while loading shared libraries: libmeshlab-common.so: cannot open shared object file: No such file or directory\n"
     ]
    }
   ],
   "source": [
    "# Open them with your software of choice\n",
    "gmm.open_ply_mlab() # e.g., meshlab"
   ]
  },
  {
   "attachments": {},
   "cell_type": "markdown",
   "metadata": {},
   "source": [
    "***"
   ]
  },
  {
   "attachments": {},
   "cell_type": "markdown",
   "metadata": {},
   "source": [
    "### Blender\n",
    "* requires freesurfer and blender\n",
    "* a powerful approach and allows for a lot of customization (due to the blender api flexibility, which can be called via python)\n",
    "* The script will load the inflated and pial mesh, with the option to slide between the 2 (i.e. customize how inflated you want the surface to be)\n",
    "* You can load several colormaps at once, and flip between them \n",
    "* If you are feeling adventurous, you can even create an animation over time, (e.g., plot timecourse info on the surface). This is a bit experimental, and may take up a lot of data and computing power. I haven't fully explored it. \n"
   ]
  },
  {
   "cell_type": "code",
   "execution_count": 21,
   "metadata": {},
   "outputs": [
    {
     "name": "stdout",
     "output_type": "stream",
     "text": [
      "Using fs dir = /data1/projects/dumoulinlab/Lab_members/Marcus/projects/pilot1/derivatives/freesurfer\n",
      "Adding offset to mesh...\n",
      "Adding offset to mesh...\n",
      "Adding offset to mesh...\n",
      "Adding offset to mesh...\n",
      "Adding offset to mesh...\n",
      "Adding offset to mesh...\n",
      "Overwriting existing file\n",
      "Making z_blend\n"
     ]
    }
   ],
   "source": [
    "from dag_prf_utils.blender_tools import BlendMaker\n",
    "bm = BlendMaker(\n",
    "    sub=sub,\n",
    "    fs_dir=fs_dir,\n",
    "    output_dir='z_blend',    \n",
    "    ow=True, \n",
    ")\n",
    "# This will create a folder with 4 .ply meshes\n",
    "# -> left-inflated, right-inflated, left-pial, right-pial\n",
    "# & 2 csv files with rgb information for:\n",
    "# -> cortical curvature, cortical thickness"
   ]
  },
  {
   "cell_type": "code",
   "execution_count": 22,
   "metadata": {},
   "outputs": [],
   "source": [
    "\n",
    "# Add polar angle plot\n",
    "bm.add_blender_cmap(\n",
    "    data=polar_angle_data,\n",
    "    surf_name=f'{sub}-polar_angle',\n",
    "    data_mask=data_mask,\n",
    "    # data_alpha=data_alpha,\n",
    "    vmin = -3.14, vmax=3.14, # min and max values of polar anlge \n",
    "    cmap = 'marco_pol',\n",
    ")\n",
    "# Add eccentricity\n",
    "bm.add_blender_cmap(\n",
    "    data=eccentricity_data,\n",
    "    surf_name=f'{sub}-ecc',\n",
    "    data_mask=data_mask,\n",
    "    # data_alpha=data_alpha,\n",
    "    vmin = 0, vmax=5, # min and max values of polar anlge \n",
    "    cmap = 'ecc',\n",
    ")\n",
    "# -> polar_angle, and eccentricity\n",
    "# If the alpha is too blurry, just use data mask..."
   ]
  },
  {
   "cell_type": "code",
   "execution_count": 23,
   "metadata": {},
   "outputs": [],
   "source": [
    "# Now we can launch blender, and load in the .ply files and the rgb data...\n",
    "bm.launch_blender() # creates a startup script for the blender file\n",
    "# navigate to the output directory and run:\n",
    "# blender --python blender_script.py\n",
    "# If you have issues check the blender_script.py for errors (common issue is the path)"
   ]
  },
  {
   "attachments": {},
   "cell_type": "markdown",
   "metadata": {},
   "source": [
    "This may take a while. But once it is done, you can save everything together as one .blender file. You can open this file on its own, and everything will load very quickly. (so you only need to run this once, unless you change the data...)\n",
    "\n",
    "You can then do a number of cool things:\n",
    "\n",
    "* Inflate & deflate the hemispheres:    \n",
    "    * Select the hemisphere (click on it; it should then have an orange line outlining it). \n",
    "    * Click on the green triangle on the panel on the right\n",
    "    * Got to \"shape keys\"\n",
    "    * Click on interpolated\n",
    "    * There is a slider named \"Value\". Change the value here from 0-1 to inflate & deflate the hemisphere\n",
    "* Switch between different plots:\n",
    "    * Select the hemisphere (click on it)\n",
    "    * Click on the green triangle on the panel on the right\n",
    "    * Go to color attributes\n",
    "    * Click on what you want to show on the surface (e.g., polar_angle, curvature etc.)"
   ]
  }
 ],
 "metadata": {
  "kernelspec": {
   "display_name": "dag_test",
   "language": "python",
   "name": "python3"
  },
  "language_info": {
   "codemirror_mode": {
    "name": "ipython",
    "version": 3
   },
   "file_extension": ".py",
   "mimetype": "text/x-python",
   "name": "python",
   "nbconvert_exporter": "python",
   "pygments_lexer": "ipython3",
   "version": "3.9.16"
  },
  "orig_nbformat": 4
 },
 "nbformat": 4,
 "nbformat_minor": 2
}
