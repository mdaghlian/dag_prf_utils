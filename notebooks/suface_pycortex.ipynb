{
 "cells": [
  {
   "attachments": {},
   "cell_type": "markdown",
   "metadata": {},
   "source": [
    "#  Some slightly hacky stuff to do around pycortex \n",
    "\n",
    "Easy (and hacky!!) way to import freesurfer ROIs into pycortex\n",
    "\n",
    "BEFORE YOU DO THIS MAKE SURE TO BACK UP ANY KIND OF PYCORTEX STUFF YOU DON'T WANT OVERWRITTEN!!!\n",
    "\n",
    "Why would you do this? Because pycortex is beautiful, but you are lazy... \n",
    "\n",
    "It is really nice to be able to toggle the ROIs on and off in pycortex viewer; but to do this you have to have them defined on the svg. To define them on the SVG, you need to draw them in inkscape. But maybe you already used freesurfer, and don't want to... whatever\n",
    "\n",
    "This helps with that...\n",
    "\n",
    "It also works with anything defined as a boolean array. \n",
    "\n",
    "Also for plotting flatmaps in a pycortex like way but with more flexibility with matplotlib could be useful\n"
   ]
  },
  {
   "cell_type": "code",
   "execution_count": 1,
   "metadata": {},
   "outputs": [
    {
     "name": "stdout",
     "output_type": "stream",
     "text": [
      "The autoreload extension is already loaded. To reload it, use:\n",
      "  %reload_ext autoreload\n"
     ]
    }
   ],
   "source": [
    "%load_ext autoreload\n",
    "%autoreload 2\n",
    "import numpy as np\n",
    "import os\n",
    "opj = os.path.join"
   ]
  },
  {
   "cell_type": "code",
   "execution_count": 2,
   "metadata": {},
   "outputs": [
    {
     "ename": "ModuleNotFoundError",
     "evalue": "No module named 'linescanning'",
     "output_type": "error",
     "traceback": [
      "\u001b[0;31m---------------------------------------------------------------------------\u001b[0m",
      "\u001b[0;31mModuleNotFoundError\u001b[0m                       Traceback (most recent call last)",
      "Cell \u001b[0;32mIn[2], line 4\u001b[0m\n\u001b[1;32m      2\u001b[0m fs_dir \u001b[38;5;241m=\u001b[39m \u001b[38;5;124m'\u001b[39m\u001b[38;5;124m/data1/projects/dumoulinlab/Lab_members/Marcus/projects/pilot1/derivatives/freesurfer\u001b[39m\u001b[38;5;124m'\u001b[39m\n\u001b[1;32m      3\u001b[0m ctx_dir \u001b[38;5;241m=\u001b[39m \u001b[38;5;124m'\u001b[39m\u001b[38;5;124m/data1/projects/dumoulinlab/Lab_members/Marcus/projects/pilot1/derivatives/pycortex\u001b[39m\u001b[38;5;124m'\u001b[39m\n\u001b[0;32m----> 4\u001b[0m \u001b[38;5;28;01mfrom\u001b[39;00m\u001b[38;5;250m \u001b[39m\u001b[38;5;21;01mpfa_scripts\u001b[39;00m\u001b[38;5;21;01m.\u001b[39;00m\u001b[38;5;21;01mload_saved_info\u001b[39;00m\u001b[38;5;250m \u001b[39m\u001b[38;5;28;01mimport\u001b[39;00m \u001b[38;5;241m*\u001b[39m\n\u001b[1;32m      5\u001b[0m \u001b[38;5;28;01mfrom\u001b[39;00m\u001b[38;5;250m \u001b[39m\u001b[38;5;21;01mdag_prf_utils\u001b[39;00m\u001b[38;5;21;01m.\u001b[39;00m\u001b[38;5;21;01mprfpy_functions\u001b[39;00m\u001b[38;5;250m \u001b[39m\u001b[38;5;28;01mimport\u001b[39;00m Prf1T1M\n\u001b[1;32m      6\u001b[0m prfs \u001b[38;5;241m=\u001b[39m Prf1T1M(\n\u001b[1;32m      7\u001b[0m     load_data_prf(\u001b[38;5;124m'\u001b[39m\u001b[38;5;124msub-02\u001b[39m\u001b[38;5;124m'\u001b[39m, \u001b[38;5;124m'\u001b[39m\u001b[38;5;124mAS0\u001b[39m\u001b[38;5;124m'\u001b[39m, \u001b[38;5;124m'\u001b[39m\u001b[38;5;124mgauss\u001b[39m\u001b[38;5;124m'\u001b[39m)[\u001b[38;5;124m'\u001b[39m\u001b[38;5;124mAS0\u001b[39m\u001b[38;5;124m'\u001b[39m][\u001b[38;5;124m'\u001b[39m\u001b[38;5;124mgauss\u001b[39m\u001b[38;5;124m'\u001b[39m],\n\u001b[1;32m      8\u001b[0m     model\u001b[38;5;241m=\u001b[39m\u001b[38;5;124m'\u001b[39m\u001b[38;5;124mgauss\u001b[39m\u001b[38;5;124m'\u001b[39m,)\n",
      "File \u001b[0;32m/data1/projects/dumoulinlab/Lab_members/Marcus/projects/pilot1/code/PFA_clean/pfa_scripts/load_saved_info.py:3\u001b[0m\n\u001b[1;32m      1\u001b[0m \u001b[38;5;28;01mimport\u001b[39;00m\u001b[38;5;250m \u001b[39m\u001b[38;5;21;01mnumpy\u001b[39;00m\u001b[38;5;250m \u001b[39m\u001b[38;5;28;01mas\u001b[39;00m\u001b[38;5;250m \u001b[39m\u001b[38;5;21;01mnp\u001b[39;00m\n\u001b[1;32m      2\u001b[0m \u001b[38;5;28;01mimport\u001b[39;00m\u001b[38;5;250m \u001b[39m\u001b[38;5;21;01mscipy\u001b[39;00m\u001b[38;5;21;01m.\u001b[39;00m\u001b[38;5;21;01mio\u001b[39;00m\n\u001b[0;32m----> 3\u001b[0m \u001b[38;5;28;01mimport\u001b[39;00m\u001b[38;5;250m \u001b[39m\u001b[38;5;21;01mlinescanning\u001b[39;00m\u001b[38;5;21;01m.\u001b[39;00m\u001b[38;5;21;01mutils\u001b[39;00m\u001b[38;5;250m \u001b[39m\u001b[38;5;28;01mas\u001b[39;00m\u001b[38;5;250m \u001b[39m\u001b[38;5;21;01mlsutils\u001b[39;00m\n\u001b[1;32m      4\u001b[0m \u001b[38;5;28;01mimport\u001b[39;00m\u001b[38;5;250m \u001b[39m\u001b[38;5;21;01mnibabel\u001b[39;00m\u001b[38;5;250m \u001b[39m\u001b[38;5;28;01mas\u001b[39;00m\u001b[38;5;250m \u001b[39m\u001b[38;5;21;01mnb\u001b[39;00m\n\u001b[1;32m      5\u001b[0m \u001b[38;5;28;01mimport\u001b[39;00m\u001b[38;5;250m \u001b[39m\u001b[38;5;21;01myaml\u001b[39;00m\n",
      "\u001b[0;31mModuleNotFoundError\u001b[0m: No module named 'linescanning'"
     ]
    }
   ],
   "source": [
    "# FOR MY OWN TESTING OF THIS EXAMPLE FOLDER\n",
    "fs_dir = '/data1/projects/dumoulinlab/Lab_members/Marcus/projects/pilot1/derivatives/freesurfer'\n",
    "ctx_dir = '/data1/projects/dumoulinlab/Lab_members/Marcus/projects/pilot1/derivatives/pycortex'\n",
    "from pfa_scripts.load_saved_info import *\n",
    "from dag_prf_utils.prfpy_functions import Prf1T1M\n",
    "prfs = Prf1T1M(\n",
    "    load_data_prf('sub-02', 'AS0', 'gauss')['AS0']['gauss'],\n",
    "    model='gauss',)\n",
    "polar_angle_data = prfs.pd_params['pol'].to_numpy()\n",
    "eccentricity_data = prfs.pd_params['ecc'].to_numpy()\n",
    "data_mask = prfs.return_vx_mask(th={'min-rsq':.1, 'max-ecc':5})\n",
    "data_rsq = prfs.pd_params['rsq'].to_numpy()\n",
    "data_alpha = data_rsq.copy()\n",
    "sub='sub-02'"
   ]
  },
  {
   "cell_type": "code",
   "execution_count": null,
   "metadata": {},
   "outputs": [],
   "source": [
    "# sub = 'sub-01'                                      # Subject number\n",
    "# fs_dir = '~/home/project1/derivatives/freesurfer'   # e.g., /home/project1/derivatives/freesurfer\n",
    "# ctx_dir = '~/home/project1/derivatives/pycortex' # e.g., /home/project1/derivatives/freesurfer/label\n",
    "\n"
   ]
  },
  {
   "cell_type": "code",
   "execution_count": null,
   "metadata": {},
   "outputs": [],
   "source": [
    "from dag_prf_utils.pycortex import set_ctx_path,PyctxMaker\n",
    "\n",
    "# Make sure pycortex is pointing to correct folder\n",
    "# set_ctx_path('/path/to/pycortex/files')\n",
    "\n",
    "pm = PyctxMaker(\n",
    "    sub = sub,\n",
    "    fs_dir = fs_dir, \n",
    "    ctx_path=ctx_dir,\n",
    "    )\n"
   ]
  },
  {
   "cell_type": "markdown",
   "metadata": {},
   "source": [
    "## quick flatmaps\n",
    "Already got flatmaps? then skip this stage\n",
    "\n",
    "Pycortex needs flatmaps. In the form of flat_*h.gii in the pycortex folder for that subject. If you are very lazy (like me) and don't want to go through the trouble of flattening - i offer a couple of DODGY ways  to flatten the surface. \n",
    "\n",
    "It involves selecting some of the vertices to focus on. Then applying some kind of flattening algorithm. I then save the stuff into the pycortex folder"
   ]
  },
  {
   "cell_type": "code",
   "execution_count": null,
   "metadata": {},
   "outputs": [],
   "source": [
    "import inspect\n",
    "from dag_prf_utils.utils import dag_load_roi\n",
    "# Lets pick some vertices to focus on:\n",
    "# I have drawn a bunch of ROIs in the freesurfer folder\n",
    "# all called 'custom', so I'll load them\n",
    "# But you can make this selection anyway you want\n",
    "centre_bool = dag_load_roi(\n",
    "    sub=sub,\n",
    "    roi='v1',\n",
    "    fs_dir=fs_dir,\n",
    "    combine_matches=True,  \n",
    ")\n",
    "\n",
    "print(f'Number of vertices: {centre_bool.sum()}')\n",
    "# Boolean array of vertices (in both hemispheres)"
   ]
  },
  {
   "cell_type": "markdown",
   "metadata": {},
   "source": [
    "Make the flatmap \n",
    "\n",
    "Basically take the focussing on the coordinates, we can do some flattening. This can be primitively done using the freesurfer projection to a sphere (and just using latitude and longitude). Or you can use the \"igl\" package which does some clever as-rigid-as-possible transformations. IGL is better, but can fail randomly during the making - so you may have to rerun until you are happy"
   ]
  },
  {
   "cell_type": "code",
   "execution_count": null,
   "metadata": {},
   "outputs": [],
   "source": [
    "print(inspect.getsource(pm.make_flat_map))"
   ]
  },
  {
   "cell_type": "code",
   "execution_count": null,
   "metadata": {},
   "outputs": [],
   "source": [
    "if True: # DONT DO IT THE SECOND TIME\n",
    "    pm.mesh_info['occ'] = None\n",
    "    pm.make_flat_map(\n",
    "        centre_bool=centre_bool,\n",
    "        method='igl', # 'igl' or 'latlon'\n",
    "        hemi_project='inflated', # Starting point for flattening (e.g., inflated, pial, sphere)\n",
    "        morph=20, # Can expand or shrink the selection on the mesh (dilation/erosion)\n",
    "        flat_name='v1_iglB',\n",
    "        cut_box=True, \n",
    "    )\n",
    "    # Morphing is useful to make sure the selection is not too small"
   ]
  },
  {
   "cell_type": "code",
   "execution_count": 62,
   "metadata": {},
   "outputs": [],
   "source": [
    "pm.clear_flat(flat_name='occ')"
   ]
  },
  {
   "cell_type": "markdown",
   "metadata": {},
   "source": [
    "before we go any further - lets check that it turned out how we would like"
   ]
  },
  {
   "cell_type": "code",
   "execution_count": null,
   "metadata": {},
   "outputs": [],
   "source": [
    "# This is not the same as pycortex's quickshow\n",
    "# pm.reload_flat('v1_igl')\n",
    "x = np.hstack(\n",
    "    [\n",
    "        pm.mesh_info['sphere']['lh']['coords'][:,0],\n",
    "        pm.mesh_info['sphere']['rh']['coords'][:,0]\n",
    "    ]) \n",
    "pm.flat_mpl(\n",
    "    data=x, #cmap='marco_pol', vmin=-np.pi, vmax=np.pi,\n",
    "    data_mask=data_mask,\n",
    "    flat_name='flat',\n",
    "    roi_list='v1c', \n",
    "    # angle_rot=0  \n",
    "    )"
   ]
  },
  {
   "cell_type": "markdown",
   "metadata": {},
   "source": [
    "Above i use my own flat_mpl but to get this to work with pycortex you need to kill the kernel and rerun the notebook. up to this point"
   ]
  },
  {
   "cell_type": "markdown",
   "metadata": {},
   "source": [
    "## Add the ROIs to pycortex SVG (Kill kernel and rerun first!)\n",
    "To add ROIs we \n",
    "\n",
    "[1] Load the boolean array from freesurfer\n",
    "\n",
    "[2] Find the vertices on the edge of ROIs\n",
    "\n",
    "[3] Find the order for these vertices \n",
    "\n",
    "[4] Draw them onto our SVG file\n",
    "\n",
    "\n",
    "Again I've written this so you can do it just using this line of code"
   ]
  },
  {
   "cell_type": "code",
   "execution_count": 23,
   "metadata": {},
   "outputs": [],
   "source": [
    "roi_list = ['v1', ]  # roi names in you're freesurfer label folder\n",
    "pm.add_rois_to_svg(roi_list)"
   ]
  },
  {
   "cell_type": "code",
   "execution_count": null,
   "metadata": {},
   "outputs": [],
   "source": [
    "\n",
    "pm.quick_show()"
   ]
  }
 ],
 "metadata": {
  "kernelspec": {
   "display_name": "prf_fix",
   "language": "python",
   "name": "python3"
  },
  "language_info": {
   "codemirror_mode": {
    "name": "ipython",
    "version": 3
   },
   "file_extension": ".py",
   "mimetype": "text/x-python",
   "name": "python",
   "nbconvert_exporter": "python",
   "pygments_lexer": "ipython3",
   "version": "3.13.1"
  },
  "orig_nbformat": 4
 },
 "nbformat": 4,
 "nbformat_minor": 2
}
