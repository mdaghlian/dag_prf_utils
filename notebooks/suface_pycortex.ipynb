{
 "cells": [
  {
   "attachments": {},
   "cell_type": "markdown",
   "metadata": {},
   "source": [
    "#  How to quickly and easily import flat maps into pycortex\n",
    "\n",
    "Easy (and hacky!!) way to import freesurfer ROIs into pycortex\n",
    "\n",
    "BEFORE YOU DO THIS MAKE SURE TO BACK UP ANY KIND OF PYCORTEX STUFF YOU DON'T WANT OVERWRITTEN!!!\n",
    "\n",
    "Why would you do this? Because pycortex is beautiful, but you are lazy... \n",
    "\n",
    "It is really nice to be able to toggle the ROIs on and off in pycortex viewer; but to do this you have to have them defined on the svg. To define them on the SVG, you need to draw them in inkscape. But maybe you already used freesurfer, and don't want to... whatever\n",
    "\n",
    "This helps with that...\n",
    "\n",
    "It also works with anything defined as a boolean array. \n",
    "\n",
    "Also for plotting flatmaps in a pycortex like way but with more flexibility with matplotlib could be useful\n"
   ]
  },
  {
   "cell_type": "code",
   "execution_count": 1,
   "metadata": {},
   "outputs": [
    {
     "name": "stdout",
     "output_type": "stream",
     "text": [
      "The autoreload extension is already loaded. To reload it, use:\n",
      "  %reload_ext autoreload\n"
     ]
    }
   ],
   "source": [
    "%load_ext autoreload\n",
    "%autoreload 2\n",
    "import numpy as np\n",
    "import os\n",
    "opj = os.path.join"
   ]
  },
  {
   "cell_type": "code",
   "execution_count": 2,
   "metadata": {},
   "outputs": [
    {
     "name": "stderr",
     "output_type": "stream",
     "text": [
      "The nilearn.glm module is experimental. It may change in any future release of Nilearn.\n"
     ]
    },
    {
     "name": "stdout",
     "output_type": "stream",
     "text": [
      "/data1/projects/dumoulinlab/Lab_members/Marcus/projects/pilot1/derivatives/prf_no_hrf/sub-02/ses-1/sub-02_model-gauss_roi-all_task-AS0-fits_stage-iter_constr-tc_desc-prf_params.pkl\n",
      "prf_params.shape[-1]=8\n",
      "include hrf = True\n",
      "include rsq = True\n"
     ]
    }
   ],
   "source": [
    "# FOR MY OWN TESTING OF THIS EXAMPLE FOLDER\n",
    "# -> Freesurfer directory\n",
    "sub = 'sub-02'\n",
    "fs_dir = '/data1/projects/dumoulinlab/Lab_members/Marcus/projects/pilot1/derivatives/freesurfer'\n",
    "ctx_dir = '/data1/projects/dumoulinlab/Lab_members/Marcus/projects/pilot1/derivatives/cortex'\n",
    "# -> load design matrix, time series and prfpy parameters from one of my projects\n",
    "# \n",
    "from pfa_scripts.load_saved_info import *\n",
    "prfpy_numpy_array = load_data_prf('sub-02', 'AS0', 'gauss')['AS0']['gauss']\n",
    "time_series = load_data_tc(sub=sub, ses='ses-1', task_list='AS0', )['AS0']\n",
    "design_matrix = get_design_matrix_npy(['AS0'])['AS0'][:,:,5:]         \n",
    "\n",
    "# Create prfpy stimulus & model\n",
    "assert design_matrix.shape[-1]==time_series.shape[-1]\n",
    "prf_stim = PRFStimulus2D(\n",
    "    screen_size_cm=39.3,                                    # height of the screen (i.e., the diameter of the stimulated region)    \n",
    "    screen_distance_cm=196,                                 # Distance of screen to eye\n",
    "    design_matrix=design_matrix,                            # dm (npix x npix x time_points)\n",
    "    TR=1.5,                                                 # TR\n",
    "    )   \n",
    "prfpy_model = Iso2DGaussianModel(stimulus=prf_stim)\n",
    "from dag_prf_utils.prfpy_ts_plotter import TSPlotter\n",
    "# Now make the \"ts plotter\": which will make plotting our prf information very easy\n",
    "prfs  = TSPlotter(\n",
    "    prf_params=prfpy_numpy_array,\n",
    "    model='gauss',\n",
    "    prfpy_model=prfpy_model,\n",
    "    real_ts=time_series\n",
    ")\n",
    "\n",
    "# If you don't want to work with prfpy directly -> just load your own version for some of these\n",
    "# ** Control visibility of data ** [using mask, or alpha, or both...] \n",
    "# If you don't want to show the values of every point (for example because it is outside the visual cortex). You may want to hide it. \n",
    "# If you are plotting PRFs, then you may want to hide the bad fits. So you can create a mask for where the rsq<threshold (e.g., 0.1)\n",
    "# data_mask: what to show (TRUE), what to hide (FALSE)\n",
    "# -> should boolean 1D np.ndarray, where the length = number of vertices in subject surface\n",
    "# -> if unspecified, all surface functions assume TRUE for all voxels\n",
    "# data_alpha: transparency (invisible = 0), (opaque = 1).\n",
    "# Often you will do this based on the rsquared of your model\n",
    "\n",
    "polar_angle_data = prfs.pd_params['pol'].to_numpy()\n",
    "eccentricity_data = prfs.pd_params['ecc'].to_numpy()\n",
    "data_mask = prfs.return_vx_mask(th={'min-rsq':.1, 'max-ecc':5})\n",
    "data_rsq = prfs.pd_params['rsq'].to_numpy()\n",
    "data_alpha = data_rsq.copy()\n"
   ]
  },
  {
   "cell_type": "code",
   "execution_count": 11,
   "metadata": {},
   "outputs": [
    {
     "name": "stdout",
     "output_type": "stream",
     "text": [
      "Using fs dir = /data1/projects/dumoulinlab/Lab_members/Marcus/projects/pilot1/derivatives/freesurfer\n",
      "/data1/projects/dumoulinlab/Lab_members/Marcus/projects/pilot1/derivatives/cortex\n",
      "default\n",
      "/data1/projects/dumoulinlab/Lab_members/Marcus/projects/pilot1/derivatives/cortex/sub-02\n",
      "b'created by abdirashid on Tue Nov  9 18:55:52 2021\\n'\n",
      "b'created by abdirashid on Tue Nov  9 20:57:32 2021\\n'\n",
      "b'created by abdirashid on Tue Nov  9 18:55:52 2021\\n'\n",
      "b'created by abdirashid on Tue Nov  9 22:17:22 2021\\n'\n"
     ]
    }
   ],
   "source": [
    "from dag_prf_utils.pycortex import set_ctx_path,PyctxMaker\n",
    "\n",
    "# Make sure pycortex is pointing to correct folder\n",
    "# set_ctx_path('/path/to/pycortex/files')\n",
    "\n",
    "pm = PyctxMaker(\n",
    "    sub = sub,\n",
    "    fs_dir = fs_dir, \n",
    "    ctx_path=ctx_dir,\n",
    "    )\n"
   ]
  },
  {
   "cell_type": "markdown",
   "metadata": {},
   "source": [
    "## quick flatmaps\n",
    "Already got flatmaps? then skip this stage\n",
    "\n",
    "Pycortex needs flatmaps. In the form of flat_*h.gii in the pycortex folder for that subject. If you are very lazy (like me) and don't want to go through the trouble of flattening - i offer a couple of DODGY ways  to flatten the surface. \n",
    "\n",
    "It involves selecting some of the vertices to focus on. Then applying some kind of flattening algorithm. I then save the stuff into the pycortex folder"
   ]
  },
  {
   "cell_type": "code",
   "execution_count": 12,
   "metadata": {},
   "outputs": [
    {
     "name": "stdout",
     "output_type": "stream",
     "text": [
      "Number of vertices: 4905\n"
     ]
    }
   ],
   "source": [
    "import inspect\n",
    "from dag_prf_utils.utils import dag_load_roi\n",
    "# Lets pick some vertices to focus on:\n",
    "# I have drawn a bunch of ROIs in the freesurfer folder\n",
    "# all called 'custom', so I'll load them\n",
    "# But you can make this selection anyway you want\n",
    "centre_bool = dag_load_roi(\n",
    "    sub=sub,\n",
    "    roi='v1custom', \n",
    "    fs_dir=fs_dir,\n",
    "    combine_matches=True,  \n",
    ")\n",
    "\n",
    "print(f'Number of vertices: {centre_bool.sum()}')\n",
    "# Boolean array of vertices (in both hemispheres)"
   ]
  },
  {
   "cell_type": "markdown",
   "metadata": {},
   "source": [
    "Make the flatmap \n",
    "\n",
    "Basically take the focussing on the coordinates, we can do some flattening. This can be primitively done using the freesurfer projection to a sphere (and just using latitude and longitude). Or you can use the \"igl\" package which does some clever as-rigid-as-possible transformations. IGL is better, but can fail randomly during the making - so you may have to rerun until you are happy"
   ]
  },
  {
   "cell_type": "code",
   "execution_count": null,
   "metadata": {},
   "outputs": [],
   "source": [
    "print(inspect.getsource(pm.make_flat_map))"
   ]
  },
  {
   "cell_type": "code",
   "execution_count": 13,
   "metadata": {},
   "outputs": [
    {
     "name": "stdout",
     "output_type": "stream",
     "text": [
      "Warning: Not all points are equidistant from 0,0,0 atol=10\n",
      "centering!\n",
      "Faces with missing vx: 271564\n",
      "Faces with long edges: 1197\n",
      "0.036371507448175036\n",
      "saving to /data1/projects/dumoulinlab/Lab_members/Marcus/projects/pilot1/derivatives/cortex/sub-02/surfaces/flat_lh.gii\n",
      "Warning: Not all points are equidistant from 0,0,0 atol=10\n",
      "centering!\n",
      "Faces with missing vx: 273562\n",
      "Faces with long edges: 1162\n",
      "0.03328833636061657\n",
      "saving to /data1/projects/dumoulinlab/Lab_members/Marcus/projects/pilot1/derivatives/cortex/sub-02/surfaces/flat_rh.gii\n",
      "saving to /data1/projects/dumoulinlab/Lab_members/Marcus/projects/pilot1/derivatives/cortex/sub-02/custom_flat_files/flat.npz\n",
      "flat\n",
      "All done! Remember to restart the kernel before trying to make the new overlay\n"
     ]
    }
   ],
   "source": [
    "if True: # DONT DO IT THE SECOND TIME\n",
    "    pm.mesh_info['occ'] = None\n",
    "    pm.make_flat_map_CUSTOM(\n",
    "        centre_bool=centre_bool,\n",
    "        method='latlon', # 'igl' or 'latlon'\n",
    "        hemi_project='inflated', # Starting point for flattening (e.g., inflated, pial, sphere)\n",
    "        morph=10, # Can expand or shrink the selection on the mesh (dilation/erosion)\n",
    "        flat_name='flat',\n",
    "        # cut_box=True, \n",
    "    )\n",
    "    # Morphing is useful to make sure the selection is not too small"
   ]
  },
  {
   "cell_type": "code",
   "execution_count": 14,
   "metadata": {},
   "outputs": [
    {
     "name": "stdout",
     "output_type": "stream",
     "text": [
      "You need to have already made the flatmap (.gii) files\n",
      "(282402, 2)\n",
      "0.0 835.6851196289062\n",
      "0.0 1024.0\n"
     ]
    }
   ],
   "source": [
    "pm.make_svg()"
   ]
  },
  {
   "cell_type": "markdown",
   "metadata": {},
   "source": [
    "before we go any further - lets check that it turned out how we would like"
   ]
  },
  {
   "cell_type": "markdown",
   "metadata": {},
   "source": [
    "## Add the ROIs to pycortex SVG (Kill kernel and rerun first!)\n",
    "To add ROIs we \n",
    "\n",
    "[1] Load the boolean array from freesurfer\n",
    "\n",
    "[2] Find the vertices on the edge of ROIs\n",
    "\n",
    "[3] Find the order for these vertices \n",
    "\n",
    "[4] Draw them onto our SVG file\n",
    "\n",
    "\n",
    "Again I've written this so you can do it just using this line of code"
   ]
  },
  {
   "cell_type": "code",
   "execution_count": 15,
   "metadata": {},
   "outputs": [],
   "source": [
    "roi_list = ['v1', ]  # roi names in you're freesurfer label folder\n",
    "pm.add_rois_to_svg(roi_list)"
   ]
  },
  {
   "cell_type": "code",
   "execution_count": 10,
   "metadata": {},
   "outputs": [
    {
     "name": "stdout",
     "output_type": "stream",
     "text": [
      "Just using undersurface file..\n"
     ]
    },
    {
     "ename": "OSError",
     "evalue": "",
     "output_type": "error",
     "traceback": [
      "\u001b[0;31m---------------------------------------------------------------------------\u001b[0m",
      "\u001b[0;31mKeyError\u001b[0m                                  Traceback (most recent call last)",
      "File \u001b[0;32m/data1/projects/dumoulinlab/Lab_members/Marcus/programs/dpu_packages/pycortex/cortex/database.py:526\u001b[0m, in \u001b[0;36mDatabase.get_surf\u001b[0;34m(self, subject, type, hemisphere, merge, nudge)\u001b[0m\n\u001b[1;32m    525\u001b[0m \u001b[38;5;28;01mfrom\u001b[39;00m \u001b[38;5;21;01m.\u001b[39;00m \u001b[38;5;28;01mimport\u001b[39;00m formats\n\u001b[0;32m--> 526\u001b[0m fnm \u001b[38;5;241m=\u001b[39m \u001b[38;5;28mstr\u001b[39m(os\u001b[38;5;241m.\u001b[39mpath\u001b[38;5;241m.\u001b[39msplitext(\u001b[43mfiles\u001b[49m\u001b[43m[\u001b[49m\u001b[38;5;28;43mtype\u001b[39;49m\u001b[43m]\u001b[49m[hemi])[\u001b[38;5;241m0\u001b[39m])\n\u001b[1;32m    527\u001b[0m \u001b[38;5;28;01mreturn\u001b[39;00m formats\u001b[38;5;241m.\u001b[39mread(fnm)\n",
      "\u001b[0;31mKeyError\u001b[0m: 'wm'",
      "\nDuring handling of the above exception, another exception occurred:\n",
      "\u001b[0;31mOSError\u001b[0m                                   Traceback (most recent call last)",
      "File \u001b[0;32m/data1/projects/dumoulinlab/Lab_members/Marcus/programs/dpu_packages/pycortex/cortex/dataset/braindata.py:368\u001b[0m, in \u001b[0;36mVertexData.__init__\u001b[0;34m(self, data, subject, **kwargs)\u001b[0m\n\u001b[1;32m    367\u001b[0m \u001b[38;5;28;01mtry\u001b[39;00m:\n\u001b[0;32m--> 368\u001b[0m     left, right \u001b[38;5;241m=\u001b[39m \u001b[43mdb\u001b[49m\u001b[38;5;241;43m.\u001b[39;49m\u001b[43mget_surf\u001b[49m\u001b[43m(\u001b[49m\u001b[38;5;28;43mself\u001b[39;49m\u001b[38;5;241;43m.\u001b[39;49m\u001b[43msubject\u001b[49m\u001b[43m,\u001b[49m\u001b[43m \u001b[49m\u001b[38;5;124;43m\"\u001b[39;49m\u001b[38;5;124;43mwm\u001b[39;49m\u001b[38;5;124;43m\"\u001b[39;49m\u001b[43m)\u001b[49m\n\u001b[1;32m    369\u001b[0m \u001b[38;5;28;01mexcept\u001b[39;00m \u001b[38;5;167;01mIOError\u001b[39;00m:\n",
      "File \u001b[0;32m/data1/projects/dumoulinlab/Lab_members/Marcus/programs/dpu_packages/pycortex/cortex/database.py:31\u001b[0m, in \u001b[0;36m_memo.<locals>.memofn\u001b[0;34m(self, *args, **kwargs)\u001b[0m\n\u001b[1;32m     30\u001b[0m \u001b[38;5;28;01mif\u001b[39;00m h \u001b[38;5;129;01mnot\u001b[39;00m \u001b[38;5;129;01min\u001b[39;00m \u001b[38;5;28mself\u001b[39m\u001b[38;5;241m.\u001b[39m_memocache:\n\u001b[0;32m---> 31\u001b[0m     \u001b[38;5;28mself\u001b[39m\u001b[38;5;241m.\u001b[39m_memocache[h] \u001b[38;5;241m=\u001b[39m \u001b[43mfn\u001b[49m\u001b[43m(\u001b[49m\u001b[38;5;28;43mself\u001b[39;49m\u001b[43m,\u001b[49m\u001b[43m \u001b[49m\u001b[38;5;241;43m*\u001b[39;49m\u001b[43margs\u001b[49m\u001b[43m,\u001b[49m\u001b[43m \u001b[49m\u001b[38;5;241;43m*\u001b[39;49m\u001b[38;5;241;43m*\u001b[39;49m\u001b[43mkwargs\u001b[49m\u001b[43m)\u001b[49m\n\u001b[1;32m     32\u001b[0m \u001b[38;5;28;01mreturn\u001b[39;00m copy\u001b[38;5;241m.\u001b[39mdeepcopy(\u001b[38;5;28mself\u001b[39m\u001b[38;5;241m.\u001b[39m_memocache[h])\n",
      "File \u001b[0;32m/data1/projects/dumoulinlab/Lab_members/Marcus/programs/dpu_packages/pycortex/cortex/database.py:501\u001b[0m, in \u001b[0;36mDatabase.get_surf\u001b[0;34m(self, subject, type, hemisphere, merge, nudge)\u001b[0m\n\u001b[1;32m    500\u001b[0m \u001b[38;5;28;01mif\u001b[39;00m hemisphere\u001b[38;5;241m.\u001b[39mlower() \u001b[38;5;241m==\u001b[39m \u001b[38;5;124m\"\u001b[39m\u001b[38;5;124mboth\u001b[39m\u001b[38;5;124m\"\u001b[39m:\n\u001b[0;32m--> 501\u001b[0m     left, right \u001b[38;5;241m=\u001b[39m [ \u001b[38;5;28mself\u001b[39m\u001b[38;5;241m.\u001b[39mget_surf(subject, \u001b[38;5;28mtype\u001b[39m, hemisphere\u001b[38;5;241m=\u001b[39mh) \u001b[38;5;28;01mfor\u001b[39;00m h \u001b[38;5;129;01min\u001b[39;00m [\u001b[38;5;124m\"\u001b[39m\u001b[38;5;124mlh\u001b[39m\u001b[38;5;124m\"\u001b[39m, \u001b[38;5;124m\"\u001b[39m\u001b[38;5;124mrh\u001b[39m\u001b[38;5;124m\"\u001b[39m]]\n\u001b[1;32m    502\u001b[0m     \u001b[38;5;28;01mif\u001b[39;00m \u001b[38;5;28mtype\u001b[39m \u001b[38;5;241m!=\u001b[39m \u001b[38;5;124m\"\u001b[39m\u001b[38;5;124mfiducial\u001b[39m\u001b[38;5;124m\"\u001b[39m \u001b[38;5;129;01mand\u001b[39;00m nudge:\n",
      "File \u001b[0;32m/data1/projects/dumoulinlab/Lab_members/Marcus/programs/dpu_packages/pycortex/cortex/database.py:501\u001b[0m, in \u001b[0;36m<listcomp>\u001b[0;34m(.0)\u001b[0m\n\u001b[1;32m    500\u001b[0m \u001b[38;5;28;01mif\u001b[39;00m hemisphere\u001b[38;5;241m.\u001b[39mlower() \u001b[38;5;241m==\u001b[39m \u001b[38;5;124m\"\u001b[39m\u001b[38;5;124mboth\u001b[39m\u001b[38;5;124m\"\u001b[39m:\n\u001b[0;32m--> 501\u001b[0m     left, right \u001b[38;5;241m=\u001b[39m [ \u001b[38;5;28;43mself\u001b[39;49m\u001b[38;5;241;43m.\u001b[39;49m\u001b[43mget_surf\u001b[49m\u001b[43m(\u001b[49m\u001b[43msubject\u001b[49m\u001b[43m,\u001b[49m\u001b[43m \u001b[49m\u001b[38;5;28;43mtype\u001b[39;49m\u001b[43m,\u001b[49m\u001b[43m \u001b[49m\u001b[43mhemisphere\u001b[49m\u001b[38;5;241;43m=\u001b[39;49m\u001b[43mh\u001b[49m\u001b[43m)\u001b[49m \u001b[38;5;28;01mfor\u001b[39;00m h \u001b[38;5;129;01min\u001b[39;00m [\u001b[38;5;124m\"\u001b[39m\u001b[38;5;124mlh\u001b[39m\u001b[38;5;124m\"\u001b[39m, \u001b[38;5;124m\"\u001b[39m\u001b[38;5;124mrh\u001b[39m\u001b[38;5;124m\"\u001b[39m]]\n\u001b[1;32m    502\u001b[0m     \u001b[38;5;28;01mif\u001b[39;00m \u001b[38;5;28mtype\u001b[39m \u001b[38;5;241m!=\u001b[39m \u001b[38;5;124m\"\u001b[39m\u001b[38;5;124mfiducial\u001b[39m\u001b[38;5;124m\"\u001b[39m \u001b[38;5;129;01mand\u001b[39;00m nudge:\n",
      "File \u001b[0;32m/data1/projects/dumoulinlab/Lab_members/Marcus/programs/dpu_packages/pycortex/cortex/database.py:31\u001b[0m, in \u001b[0;36m_memo.<locals>.memofn\u001b[0;34m(self, *args, **kwargs)\u001b[0m\n\u001b[1;32m     30\u001b[0m \u001b[38;5;28;01mif\u001b[39;00m h \u001b[38;5;129;01mnot\u001b[39;00m \u001b[38;5;129;01min\u001b[39;00m \u001b[38;5;28mself\u001b[39m\u001b[38;5;241m.\u001b[39m_memocache:\n\u001b[0;32m---> 31\u001b[0m     \u001b[38;5;28mself\u001b[39m\u001b[38;5;241m.\u001b[39m_memocache[h] \u001b[38;5;241m=\u001b[39m \u001b[43mfn\u001b[49m\u001b[43m(\u001b[49m\u001b[38;5;28;43mself\u001b[39;49m\u001b[43m,\u001b[49m\u001b[43m \u001b[49m\u001b[38;5;241;43m*\u001b[39;49m\u001b[43margs\u001b[49m\u001b[43m,\u001b[49m\u001b[43m \u001b[49m\u001b[38;5;241;43m*\u001b[39;49m\u001b[38;5;241;43m*\u001b[39;49m\u001b[43mkwargs\u001b[49m\u001b[43m)\u001b[49m\n\u001b[1;32m     32\u001b[0m \u001b[38;5;28;01mreturn\u001b[39;00m copy\u001b[38;5;241m.\u001b[39mdeepcopy(\u001b[38;5;28mself\u001b[39m\u001b[38;5;241m.\u001b[39m_memocache[h])\n",
      "File \u001b[0;32m/data1/projects/dumoulinlab/Lab_members/Marcus/programs/dpu_packages/pycortex/cortex/database.py:529\u001b[0m, in \u001b[0;36mDatabase.get_surf\u001b[0;34m(self, subject, type, hemisphere, merge, nudge)\u001b[0m\n\u001b[1;32m    528\u001b[0m \u001b[38;5;28;01mexcept\u001b[39;00m \u001b[38;5;167;01mKeyError\u001b[39;00m:\n\u001b[0;32m--> 529\u001b[0m     \u001b[38;5;28;01mraise\u001b[39;00m \u001b[38;5;167;01mIOError\u001b[39;00m\n",
      "\u001b[0;31mOSError\u001b[0m: ",
      "\nDuring handling of the above exception, another exception occurred:\n",
      "\u001b[0;31mKeyError\u001b[0m                                  Traceback (most recent call last)",
      "File \u001b[0;32m/data1/projects/dumoulinlab/Lab_members/Marcus/programs/dpu_packages/pycortex/cortex/database.py:526\u001b[0m, in \u001b[0;36mDatabase.get_surf\u001b[0;34m(self, subject, type, hemisphere, merge, nudge)\u001b[0m\n\u001b[1;32m    525\u001b[0m \u001b[38;5;28;01mfrom\u001b[39;00m \u001b[38;5;21;01m.\u001b[39;00m \u001b[38;5;28;01mimport\u001b[39;00m formats\n\u001b[0;32m--> 526\u001b[0m fnm \u001b[38;5;241m=\u001b[39m \u001b[38;5;28mstr\u001b[39m(os\u001b[38;5;241m.\u001b[39mpath\u001b[38;5;241m.\u001b[39msplitext(\u001b[43mfiles\u001b[49m\u001b[43m[\u001b[49m\u001b[38;5;28;43mtype\u001b[39;49m\u001b[43m]\u001b[49m[hemi])[\u001b[38;5;241m0\u001b[39m])\n\u001b[1;32m    527\u001b[0m \u001b[38;5;28;01mreturn\u001b[39;00m formats\u001b[38;5;241m.\u001b[39mread(fnm)\n",
      "\u001b[0;31mKeyError\u001b[0m: 'wm'",
      "\nDuring handling of the above exception, another exception occurred:\n",
      "\u001b[0;31mOSError\u001b[0m                                   Traceback (most recent call last)",
      "Cell \u001b[0;32mIn[10], line 1\u001b[0m\n\u001b[0;32m----> 1\u001b[0m \u001b[43mpm\u001b[49m\u001b[38;5;241;43m.\u001b[39;49m\u001b[43mquick_show\u001b[49m\u001b[43m(\u001b[49m\u001b[43m)\u001b[49m\n",
      "File \u001b[0;32m/data1/projects/dumoulinlab/Lab_members/Marcus/programs/dag_prf_utils/dag_prf_utils/pycortex.py:950\u001b[0m, in \u001b[0;36mPyctxMaker.quick_show\u001b[0;34m(self, **kwargs)\u001b[0m\n\u001b[1;32m    948\u001b[0m surf_name \u001b[38;5;241m=\u001b[39m kwargs\u001b[38;5;241m.\u001b[39mpop(\u001b[38;5;124m'\u001b[39m\u001b[38;5;124msurf_name\u001b[39m\u001b[38;5;124m'\u001b[39m, \u001b[38;5;124m'\u001b[39m\u001b[38;5;124mdud\u001b[39m\u001b[38;5;124m'\u001b[39m)\n\u001b[1;32m    949\u001b[0m kwargs\u001b[38;5;241m.\u001b[39msetdefault(\u001b[38;5;124m'\u001b[39m\u001b[38;5;124mwith_colorbar\u001b[39m\u001b[38;5;124m'\u001b[39m, \u001b[38;5;28;01mFalse\u001b[39;00m)\n\u001b[0;32m--> 950\u001b[0m vx_obj,_ \u001b[38;5;241m=\u001b[39m \u001b[38;5;28;43mself\u001b[39;49m\u001b[38;5;241;43m.\u001b[39;49m\u001b[43madd_vertex_obj\u001b[49m\u001b[43m(\u001b[49m\u001b[43mdata\u001b[49m\u001b[38;5;241;43m=\u001b[39;49m\u001b[43mdata\u001b[49m\u001b[43m,\u001b[49m\u001b[43m \u001b[49m\u001b[43msurf_name\u001b[49m\u001b[38;5;241;43m=\u001b[39;49m\u001b[43msurf_name\u001b[49m\u001b[43m,\u001b[49m\u001b[43m \u001b[49m\u001b[43mreturn_vx_obj\u001b[49m\u001b[38;5;241;43m=\u001b[39;49m\u001b[38;5;28;43;01mTrue\u001b[39;49;00m\u001b[43m,\u001b[49m\u001b[43m \u001b[49m\u001b[38;5;241;43m*\u001b[39;49m\u001b[38;5;241;43m*\u001b[39;49m\u001b[43mkwargs\u001b[49m\u001b[43m)\u001b[49m\n\u001b[1;32m    951\u001b[0m show_flat \u001b[38;5;241m=\u001b[39m kwargs\u001b[38;5;241m.\u001b[39mpop(\u001b[38;5;124m'\u001b[39m\u001b[38;5;124mshow_flat\u001b[39m\u001b[38;5;124m'\u001b[39m, \u001b[38;5;28;01mTrue\u001b[39;00m)\n\u001b[1;32m    952\u001b[0m flat_name \u001b[38;5;241m=\u001b[39m kwargs\u001b[38;5;241m.\u001b[39mpop(\u001b[38;5;124m'\u001b[39m\u001b[38;5;124mflat_name\u001b[39m\u001b[38;5;124m'\u001b[39m, \u001b[38;5;28mself\u001b[39m\u001b[38;5;241m.\u001b[39mflat_name)\n",
      "File \u001b[0;32m/data1/projects/dumoulinlab/Lab_members/Marcus/programs/dag_prf_utils/dag_prf_utils/pycortex.py:821\u001b[0m, in \u001b[0;36mPyctxMaker.add_vertex_obj\u001b[0;34m(self, data, surf_name, **kwargs)\u001b[0m\n\u001b[1;32m    819\u001b[0m display_rgb \u001b[38;5;241m=\u001b[39m display_rgb\u001b[38;5;241m.\u001b[39mastype(np\u001b[38;5;241m.\u001b[39muint8)\n\u001b[1;32m    820\u001b[0m \u001b[38;5;66;03m# bloop\u001b[39;00m\n\u001b[0;32m--> 821\u001b[0m this_vertex_dict \u001b[38;5;241m=\u001b[39m \u001b[43mcortex\u001b[49m\u001b[38;5;241;43m.\u001b[39;49m\u001b[43mVertexRGB\u001b[49m\u001b[43m(\u001b[49m\n\u001b[1;32m    822\u001b[0m \u001b[43m    \u001b[49m\u001b[43mred\u001b[49m\u001b[38;5;241;43m=\u001b[39;49m\u001b[43mdisplay_rgb\u001b[49m\u001b[43m[\u001b[49m\u001b[43m:\u001b[49m\u001b[43m,\u001b[49m\u001b[38;5;241;43m0\u001b[39;49m\u001b[43m]\u001b[49m\u001b[43m,\u001b[49m\u001b[43m \u001b[49m\n\u001b[1;32m    823\u001b[0m \u001b[43m    \u001b[49m\u001b[43mgreen\u001b[49m\u001b[38;5;241;43m=\u001b[39;49m\u001b[43mdisplay_rgb\u001b[49m\u001b[43m[\u001b[49m\u001b[43m:\u001b[49m\u001b[43m,\u001b[49m\u001b[38;5;241;43m1\u001b[39;49m\u001b[43m]\u001b[49m\u001b[43m,\u001b[49m\u001b[43m \u001b[49m\n\u001b[1;32m    824\u001b[0m \u001b[43m    \u001b[49m\u001b[43mblue\u001b[49m\u001b[38;5;241;43m=\u001b[39;49m\u001b[43mdisplay_rgb\u001b[49m\u001b[43m[\u001b[49m\u001b[43m:\u001b[49m\u001b[43m,\u001b[49m\u001b[38;5;241;43m2\u001b[39;49m\u001b[43m]\u001b[49m\u001b[43m,\u001b[49m\u001b[43m \u001b[49m\n\u001b[1;32m    825\u001b[0m \u001b[43m    \u001b[49m\u001b[43msubject\u001b[49m\u001b[38;5;241;43m=\u001b[39;49m\u001b[38;5;28;43mself\u001b[39;49m\u001b[38;5;241;43m.\u001b[39;49m\u001b[43msubject\u001b[49m\u001b[43m,\u001b[49m\n\u001b[1;32m    826\u001b[0m \u001b[43m    \u001b[49m\u001b[38;5;66;43;03m# unit_rgb=False, \u001b[39;49;00m\n\u001b[1;32m    827\u001b[0m \u001b[43m    \u001b[49m\u001b[43m)\u001b[49m     \n\u001b[1;32m    828\u001b[0m this_vertex_dict\u001b[38;5;241m.\u001b[39munique_id \u001b[38;5;241m=\u001b[39m np\u001b[38;5;241m.\u001b[39mrandom\u001b[38;5;241m.\u001b[39mrand(\u001b[38;5;241m500\u001b[39m)\n\u001b[1;32m    829\u001b[0m this_cmap_dict \u001b[38;5;241m=\u001b[39m cmap_dict\n",
      "File \u001b[0;32m/data1/projects/dumoulinlab/Lab_members/Marcus/programs/dpu_packages/pycortex/cortex/dataset/viewRGB.py:526\u001b[0m, in \u001b[0;36mVertexRGB.__init__\u001b[0;34m(self, red, green, blue, subject, alpha, description, state, **kwargs)\u001b[0m\n\u001b[1;32m    524\u001b[0m \u001b[38;5;28;01mif\u001b[39;00m subject \u001b[38;5;129;01mis\u001b[39;00m \u001b[38;5;28;01mNone\u001b[39;00m:\n\u001b[1;32m    525\u001b[0m     \u001b[38;5;28;01mraise\u001b[39;00m \u001b[38;5;167;01mTypeError\u001b[39;00m(\u001b[38;5;124m\"\u001b[39m\u001b[38;5;124mSubject name is required\u001b[39m\u001b[38;5;124m\"\u001b[39m)\n\u001b[0;32m--> 526\u001b[0m \u001b[38;5;28mself\u001b[39m\u001b[38;5;241m.\u001b[39mred \u001b[38;5;241m=\u001b[39m \u001b[43mVertex\u001b[49m\u001b[43m(\u001b[49m\u001b[43mred\u001b[49m\u001b[43m,\u001b[49m\u001b[43m \u001b[49m\u001b[43msubject\u001b[49m\u001b[43m)\u001b[49m\n\u001b[1;32m    527\u001b[0m \u001b[38;5;28mself\u001b[39m\u001b[38;5;241m.\u001b[39mgreen \u001b[38;5;241m=\u001b[39m Vertex(green, subject)\n\u001b[1;32m    528\u001b[0m \u001b[38;5;28mself\u001b[39m\u001b[38;5;241m.\u001b[39mblue \u001b[38;5;241m=\u001b[39m Vertex(blue, subject)\n",
      "File \u001b[0;32m/data1/projects/dumoulinlab/Lab_members/Marcus/programs/dpu_packages/pycortex/cortex/dataset/views.py:347\u001b[0m, in \u001b[0;36mVertex.__init__\u001b[0;34m(self, data, subject, cmap, vmin, vmax, description, **kwargs)\u001b[0m\n\u001b[1;32m    346\u001b[0m \u001b[38;5;28;01mdef\u001b[39;00m \u001b[38;5;21m__init__\u001b[39m(\u001b[38;5;28mself\u001b[39m, data, subject, cmap\u001b[38;5;241m=\u001b[39m\u001b[38;5;28;01mNone\u001b[39;00m, vmin\u001b[38;5;241m=\u001b[39m\u001b[38;5;28;01mNone\u001b[39;00m, vmax\u001b[38;5;241m=\u001b[39m\u001b[38;5;28;01mNone\u001b[39;00m, description\u001b[38;5;241m=\u001b[39m\u001b[38;5;124m\"\u001b[39m\u001b[38;5;124m\"\u001b[39m, \u001b[38;5;241m*\u001b[39m\u001b[38;5;241m*\u001b[39mkwargs):\n\u001b[0;32m--> 347\u001b[0m     \u001b[38;5;28;43msuper\u001b[39;49m\u001b[43m(\u001b[49m\u001b[43mVertex\u001b[49m\u001b[43m,\u001b[49m\u001b[43m \u001b[49m\u001b[38;5;28;43mself\u001b[39;49m\u001b[43m)\u001b[49m\u001b[38;5;241;43m.\u001b[39;49m\u001b[38;5;21;43m__init__\u001b[39;49m\u001b[43m(\u001b[49m\u001b[43mdata\u001b[49m\u001b[43m,\u001b[49m\u001b[43m \u001b[49m\u001b[43msubject\u001b[49m\u001b[43m,\u001b[49m\u001b[43m \u001b[49m\u001b[43mcmap\u001b[49m\u001b[38;5;241;43m=\u001b[39;49m\u001b[43mcmap\u001b[49m\u001b[43m,\u001b[49m\u001b[43m \u001b[49m\u001b[43mvmin\u001b[49m\u001b[38;5;241;43m=\u001b[39;49m\u001b[43mvmin\u001b[49m\u001b[43m,\u001b[49m\u001b[43m \u001b[49m\u001b[43mvmax\u001b[49m\u001b[38;5;241;43m=\u001b[39;49m\u001b[43mvmax\u001b[49m\u001b[43m,\u001b[49m\u001b[43m \u001b[49m\n\u001b[1;32m    348\u001b[0m \u001b[43m                                 \u001b[49m\u001b[43mdescription\u001b[49m\u001b[38;5;241;43m=\u001b[39;49m\u001b[43mdescription\u001b[49m\u001b[43m,\u001b[49m\u001b[43m \u001b[49m\u001b[38;5;241;43m*\u001b[39;49m\u001b[38;5;241;43m*\u001b[39;49m\u001b[43mkwargs\u001b[49m\u001b[43m)\u001b[49m\n\u001b[1;32m    349\u001b[0m     \u001b[38;5;66;03m# set vmin and vmax\u001b[39;00m\n\u001b[1;32m    350\u001b[0m     \u001b[38;5;28mself\u001b[39m\u001b[38;5;241m.\u001b[39mvmin \u001b[38;5;241m=\u001b[39m \u001b[38;5;28mself\u001b[39m\u001b[38;5;241m.\u001b[39mvmin \u001b[38;5;28;01mif\u001b[39;00m \u001b[38;5;28mself\u001b[39m\u001b[38;5;241m.\u001b[39mvmin \u001b[38;5;129;01mis\u001b[39;00m \u001b[38;5;129;01mnot\u001b[39;00m \u001b[38;5;28;01mNone\u001b[39;00m \u001b[38;5;28;01melse\u001b[39;00m \\\n\u001b[1;32m    351\u001b[0m         np\u001b[38;5;241m.\u001b[39mpercentile(np\u001b[38;5;241m.\u001b[39mnan_to_num(\u001b[38;5;28mself\u001b[39m\u001b[38;5;241m.\u001b[39mdata), \u001b[38;5;241m1\u001b[39m)\n",
      "File \u001b[0;32m/data1/projects/dumoulinlab/Lab_members/Marcus/programs/dpu_packages/pycortex/cortex/dataset/braindata.py:370\u001b[0m, in \u001b[0;36mVertexData.__init__\u001b[0;34m(self, data, subject, **kwargs)\u001b[0m\n\u001b[1;32m    368\u001b[0m     left, right \u001b[38;5;241m=\u001b[39m db\u001b[38;5;241m.\u001b[39mget_surf(\u001b[38;5;28mself\u001b[39m\u001b[38;5;241m.\u001b[39msubject, \u001b[38;5;124m\"\u001b[39m\u001b[38;5;124mwm\u001b[39m\u001b[38;5;124m\"\u001b[39m)\n\u001b[1;32m    369\u001b[0m \u001b[38;5;28;01mexcept\u001b[39;00m \u001b[38;5;167;01mIOError\u001b[39;00m:\n\u001b[0;32m--> 370\u001b[0m     left, right \u001b[38;5;241m=\u001b[39m \u001b[43mdb\u001b[49m\u001b[38;5;241;43m.\u001b[39;49m\u001b[43mget_surf\u001b[49m\u001b[43m(\u001b[49m\u001b[38;5;28;43mself\u001b[39;49m\u001b[38;5;241;43m.\u001b[39;49m\u001b[43msubject\u001b[49m\u001b[43m,\u001b[49m\u001b[43m \u001b[49m\u001b[38;5;124;43m\"\u001b[39;49m\u001b[38;5;124;43mfiducial\u001b[39;49m\u001b[38;5;124;43m\"\u001b[39;49m\u001b[43m)\u001b[49m\n\u001b[1;32m    371\u001b[0m \u001b[38;5;28mself\u001b[39m\u001b[38;5;241m.\u001b[39mllen \u001b[38;5;241m=\u001b[39m \u001b[38;5;28mlen\u001b[39m(left[\u001b[38;5;241m0\u001b[39m])\n\u001b[1;32m    372\u001b[0m \u001b[38;5;28mself\u001b[39m\u001b[38;5;241m.\u001b[39mrlen \u001b[38;5;241m=\u001b[39m \u001b[38;5;28mlen\u001b[39m(right[\u001b[38;5;241m0\u001b[39m])\n",
      "File \u001b[0;32m/data1/projects/dumoulinlab/Lab_members/Marcus/programs/dpu_packages/pycortex/cortex/database.py:31\u001b[0m, in \u001b[0;36m_memo.<locals>.memofn\u001b[0;34m(self, *args, **kwargs)\u001b[0m\n\u001b[1;32m     29\u001b[0m h \u001b[38;5;241m=\u001b[39m \u001b[38;5;28mstr\u001b[39m((\u001b[38;5;28mid\u001b[39m(fn), args, kwargs))\n\u001b[1;32m     30\u001b[0m \u001b[38;5;28;01mif\u001b[39;00m h \u001b[38;5;129;01mnot\u001b[39;00m \u001b[38;5;129;01min\u001b[39;00m \u001b[38;5;28mself\u001b[39m\u001b[38;5;241m.\u001b[39m_memocache:\n\u001b[0;32m---> 31\u001b[0m     \u001b[38;5;28mself\u001b[39m\u001b[38;5;241m.\u001b[39m_memocache[h] \u001b[38;5;241m=\u001b[39m \u001b[43mfn\u001b[49m\u001b[43m(\u001b[49m\u001b[38;5;28;43mself\u001b[39;49m\u001b[43m,\u001b[49m\u001b[43m \u001b[49m\u001b[38;5;241;43m*\u001b[39;49m\u001b[43margs\u001b[49m\u001b[43m,\u001b[49m\u001b[43m \u001b[49m\u001b[38;5;241;43m*\u001b[39;49m\u001b[38;5;241;43m*\u001b[39;49m\u001b[43mkwargs\u001b[49m\u001b[43m)\u001b[49m\n\u001b[1;32m     32\u001b[0m \u001b[38;5;28;01mreturn\u001b[39;00m copy\u001b[38;5;241m.\u001b[39mdeepcopy(\u001b[38;5;28mself\u001b[39m\u001b[38;5;241m.\u001b[39m_memocache[h])\n",
      "File \u001b[0;32m/data1/projects/dumoulinlab/Lab_members/Marcus/programs/dpu_packages/pycortex/cortex/database.py:501\u001b[0m, in \u001b[0;36mDatabase.get_surf\u001b[0;34m(self, subject, type, hemisphere, merge, nudge)\u001b[0m\n\u001b[1;32m    498\u001b[0m files \u001b[38;5;241m=\u001b[39m \u001b[38;5;28mself\u001b[39m\u001b[38;5;241m.\u001b[39mget_paths(subject)[\u001b[38;5;124m'\u001b[39m\u001b[38;5;124msurfs\u001b[39m\u001b[38;5;124m'\u001b[39m]\n\u001b[1;32m    500\u001b[0m \u001b[38;5;28;01mif\u001b[39;00m hemisphere\u001b[38;5;241m.\u001b[39mlower() \u001b[38;5;241m==\u001b[39m \u001b[38;5;124m\"\u001b[39m\u001b[38;5;124mboth\u001b[39m\u001b[38;5;124m\"\u001b[39m:\n\u001b[0;32m--> 501\u001b[0m     left, right \u001b[38;5;241m=\u001b[39m [ \u001b[38;5;28mself\u001b[39m\u001b[38;5;241m.\u001b[39mget_surf(subject, \u001b[38;5;28mtype\u001b[39m, hemisphere\u001b[38;5;241m=\u001b[39mh) \u001b[38;5;28;01mfor\u001b[39;00m h \u001b[38;5;129;01min\u001b[39;00m [\u001b[38;5;124m\"\u001b[39m\u001b[38;5;124mlh\u001b[39m\u001b[38;5;124m\"\u001b[39m, \u001b[38;5;124m\"\u001b[39m\u001b[38;5;124mrh\u001b[39m\u001b[38;5;124m\"\u001b[39m]]\n\u001b[1;32m    502\u001b[0m     \u001b[38;5;28;01mif\u001b[39;00m \u001b[38;5;28mtype\u001b[39m \u001b[38;5;241m!=\u001b[39m \u001b[38;5;124m\"\u001b[39m\u001b[38;5;124mfiducial\u001b[39m\u001b[38;5;124m\"\u001b[39m \u001b[38;5;129;01mand\u001b[39;00m nudge:\n\u001b[1;32m    503\u001b[0m         left[\u001b[38;5;241m0\u001b[39m][:,\u001b[38;5;241m0\u001b[39m] \u001b[38;5;241m-\u001b[39m\u001b[38;5;241m=\u001b[39m left[\u001b[38;5;241m0\u001b[39m]\u001b[38;5;241m.\u001b[39mmax(\u001b[38;5;241m0\u001b[39m)[\u001b[38;5;241m0\u001b[39m]\n",
      "File \u001b[0;32m/data1/projects/dumoulinlab/Lab_members/Marcus/programs/dpu_packages/pycortex/cortex/database.py:501\u001b[0m, in \u001b[0;36m<listcomp>\u001b[0;34m(.0)\u001b[0m\n\u001b[1;32m    498\u001b[0m files \u001b[38;5;241m=\u001b[39m \u001b[38;5;28mself\u001b[39m\u001b[38;5;241m.\u001b[39mget_paths(subject)[\u001b[38;5;124m'\u001b[39m\u001b[38;5;124msurfs\u001b[39m\u001b[38;5;124m'\u001b[39m]\n\u001b[1;32m    500\u001b[0m \u001b[38;5;28;01mif\u001b[39;00m hemisphere\u001b[38;5;241m.\u001b[39mlower() \u001b[38;5;241m==\u001b[39m \u001b[38;5;124m\"\u001b[39m\u001b[38;5;124mboth\u001b[39m\u001b[38;5;124m\"\u001b[39m:\n\u001b[0;32m--> 501\u001b[0m     left, right \u001b[38;5;241m=\u001b[39m [ \u001b[38;5;28;43mself\u001b[39;49m\u001b[38;5;241;43m.\u001b[39;49m\u001b[43mget_surf\u001b[49m\u001b[43m(\u001b[49m\u001b[43msubject\u001b[49m\u001b[43m,\u001b[49m\u001b[43m \u001b[49m\u001b[38;5;28;43mtype\u001b[39;49m\u001b[43m,\u001b[49m\u001b[43m \u001b[49m\u001b[43mhemisphere\u001b[49m\u001b[38;5;241;43m=\u001b[39;49m\u001b[43mh\u001b[49m\u001b[43m)\u001b[49m \u001b[38;5;28;01mfor\u001b[39;00m h \u001b[38;5;129;01min\u001b[39;00m [\u001b[38;5;124m\"\u001b[39m\u001b[38;5;124mlh\u001b[39m\u001b[38;5;124m\"\u001b[39m, \u001b[38;5;124m\"\u001b[39m\u001b[38;5;124mrh\u001b[39m\u001b[38;5;124m\"\u001b[39m]]\n\u001b[1;32m    502\u001b[0m     \u001b[38;5;28;01mif\u001b[39;00m \u001b[38;5;28mtype\u001b[39m \u001b[38;5;241m!=\u001b[39m \u001b[38;5;124m\"\u001b[39m\u001b[38;5;124mfiducial\u001b[39m\u001b[38;5;124m\"\u001b[39m \u001b[38;5;129;01mand\u001b[39;00m nudge:\n\u001b[1;32m    503\u001b[0m         left[\u001b[38;5;241m0\u001b[39m][:,\u001b[38;5;241m0\u001b[39m] \u001b[38;5;241m-\u001b[39m\u001b[38;5;241m=\u001b[39m left[\u001b[38;5;241m0\u001b[39m]\u001b[38;5;241m.\u001b[39mmax(\u001b[38;5;241m0\u001b[39m)[\u001b[38;5;241m0\u001b[39m]\n",
      "File \u001b[0;32m/data1/projects/dumoulinlab/Lab_members/Marcus/programs/dpu_packages/pycortex/cortex/database.py:31\u001b[0m, in \u001b[0;36m_memo.<locals>.memofn\u001b[0;34m(self, *args, **kwargs)\u001b[0m\n\u001b[1;32m     29\u001b[0m h \u001b[38;5;241m=\u001b[39m \u001b[38;5;28mstr\u001b[39m((\u001b[38;5;28mid\u001b[39m(fn), args, kwargs))\n\u001b[1;32m     30\u001b[0m \u001b[38;5;28;01mif\u001b[39;00m h \u001b[38;5;129;01mnot\u001b[39;00m \u001b[38;5;129;01min\u001b[39;00m \u001b[38;5;28mself\u001b[39m\u001b[38;5;241m.\u001b[39m_memocache:\n\u001b[0;32m---> 31\u001b[0m     \u001b[38;5;28mself\u001b[39m\u001b[38;5;241m.\u001b[39m_memocache[h] \u001b[38;5;241m=\u001b[39m \u001b[43mfn\u001b[49m\u001b[43m(\u001b[49m\u001b[38;5;28;43mself\u001b[39;49m\u001b[43m,\u001b[49m\u001b[43m \u001b[49m\u001b[38;5;241;43m*\u001b[39;49m\u001b[43margs\u001b[49m\u001b[43m,\u001b[49m\u001b[43m \u001b[49m\u001b[38;5;241;43m*\u001b[39;49m\u001b[38;5;241;43m*\u001b[39;49m\u001b[43mkwargs\u001b[49m\u001b[43m)\u001b[49m\n\u001b[1;32m     32\u001b[0m \u001b[38;5;28;01mreturn\u001b[39;00m copy\u001b[38;5;241m.\u001b[39mdeepcopy(\u001b[38;5;28mself\u001b[39m\u001b[38;5;241m.\u001b[39m_memocache[h])\n",
      "File \u001b[0;32m/data1/projects/dumoulinlab/Lab_members/Marcus/programs/dpu_packages/pycortex/cortex/database.py:520\u001b[0m, in \u001b[0;36mDatabase.get_surf\u001b[0;34m(self, subject, type, hemisphere, merge, nudge)\u001b[0m\n\u001b[1;32m    517\u001b[0m     \u001b[38;5;28;01mraise\u001b[39;00m \u001b[38;5;167;01mTypeError\u001b[39;00m(\u001b[38;5;124m\"\u001b[39m\u001b[38;5;124mNot a valid hemisphere name\u001b[39m\u001b[38;5;124m\"\u001b[39m)\n\u001b[1;32m    519\u001b[0m \u001b[38;5;28;01mif\u001b[39;00m \u001b[38;5;28mtype\u001b[39m \u001b[38;5;241m==\u001b[39m \u001b[38;5;124m'\u001b[39m\u001b[38;5;124mfiducial\u001b[39m\u001b[38;5;124m'\u001b[39m \u001b[38;5;129;01mand\u001b[39;00m \u001b[38;5;124m'\u001b[39m\u001b[38;5;124mfiducial\u001b[39m\u001b[38;5;124m'\u001b[39m \u001b[38;5;129;01mnot\u001b[39;00m \u001b[38;5;129;01min\u001b[39;00m files:\n\u001b[0;32m--> 520\u001b[0m     wpts, polys \u001b[38;5;241m=\u001b[39m \u001b[38;5;28;43mself\u001b[39;49m\u001b[38;5;241;43m.\u001b[39;49m\u001b[43mget_surf\u001b[49m\u001b[43m(\u001b[49m\u001b[43msubject\u001b[49m\u001b[43m,\u001b[49m\u001b[43m \u001b[49m\u001b[38;5;124;43m'\u001b[39;49m\u001b[38;5;124;43mwm\u001b[39;49m\u001b[38;5;124;43m'\u001b[39;49m\u001b[43m,\u001b[49m\u001b[43m \u001b[49m\u001b[43mhemi\u001b[49m\u001b[43m)\u001b[49m\n\u001b[1;32m    521\u001b[0m     ppts, _     \u001b[38;5;241m=\u001b[39m \u001b[38;5;28mself\u001b[39m\u001b[38;5;241m.\u001b[39mget_surf(subject, \u001b[38;5;124m'\u001b[39m\u001b[38;5;124mpia\u001b[39m\u001b[38;5;124m'\u001b[39m, hemi)\n\u001b[1;32m    522\u001b[0m     \u001b[38;5;28;01mreturn\u001b[39;00m (wpts \u001b[38;5;241m+\u001b[39m ppts) \u001b[38;5;241m/\u001b[39m \u001b[38;5;241m2\u001b[39m, polys\n",
      "File \u001b[0;32m/data1/projects/dumoulinlab/Lab_members/Marcus/programs/dpu_packages/pycortex/cortex/database.py:31\u001b[0m, in \u001b[0;36m_memo.<locals>.memofn\u001b[0;34m(self, *args, **kwargs)\u001b[0m\n\u001b[1;32m     29\u001b[0m h \u001b[38;5;241m=\u001b[39m \u001b[38;5;28mstr\u001b[39m((\u001b[38;5;28mid\u001b[39m(fn), args, kwargs))\n\u001b[1;32m     30\u001b[0m \u001b[38;5;28;01mif\u001b[39;00m h \u001b[38;5;129;01mnot\u001b[39;00m \u001b[38;5;129;01min\u001b[39;00m \u001b[38;5;28mself\u001b[39m\u001b[38;5;241m.\u001b[39m_memocache:\n\u001b[0;32m---> 31\u001b[0m     \u001b[38;5;28mself\u001b[39m\u001b[38;5;241m.\u001b[39m_memocache[h] \u001b[38;5;241m=\u001b[39m \u001b[43mfn\u001b[49m\u001b[43m(\u001b[49m\u001b[38;5;28;43mself\u001b[39;49m\u001b[43m,\u001b[49m\u001b[43m \u001b[49m\u001b[38;5;241;43m*\u001b[39;49m\u001b[43margs\u001b[49m\u001b[43m,\u001b[49m\u001b[43m \u001b[49m\u001b[38;5;241;43m*\u001b[39;49m\u001b[38;5;241;43m*\u001b[39;49m\u001b[43mkwargs\u001b[49m\u001b[43m)\u001b[49m\n\u001b[1;32m     32\u001b[0m \u001b[38;5;28;01mreturn\u001b[39;00m copy\u001b[38;5;241m.\u001b[39mdeepcopy(\u001b[38;5;28mself\u001b[39m\u001b[38;5;241m.\u001b[39m_memocache[h])\n",
      "File \u001b[0;32m/data1/projects/dumoulinlab/Lab_members/Marcus/programs/dpu_packages/pycortex/cortex/database.py:529\u001b[0m, in \u001b[0;36mDatabase.get_surf\u001b[0;34m(self, subject, type, hemisphere, merge, nudge)\u001b[0m\n\u001b[1;32m    527\u001b[0m     \u001b[38;5;28;01mreturn\u001b[39;00m formats\u001b[38;5;241m.\u001b[39mread(fnm)\n\u001b[1;32m    528\u001b[0m \u001b[38;5;28;01mexcept\u001b[39;00m \u001b[38;5;167;01mKeyError\u001b[39;00m:\n\u001b[0;32m--> 529\u001b[0m     \u001b[38;5;28;01mraise\u001b[39;00m \u001b[38;5;167;01mIOError\u001b[39;00m\n",
      "\u001b[0;31mOSError\u001b[0m: "
     ]
    }
   ],
   "source": [
    "pm.quick_show()"
   ]
  }
 ],
 "metadata": {
  "kernelspec": {
   "display_name": "dag_test",
   "language": "python",
   "name": "python3"
  },
  "language_info": {
   "codemirror_mode": {
    "name": "ipython",
    "version": 3
   },
   "file_extension": ".py",
   "mimetype": "text/x-python",
   "name": "python",
   "nbconvert_exporter": "python",
   "pygments_lexer": "ipython3",
   "version": "3.9.16"
  },
  "orig_nbformat": 4
 },
 "nbformat": 4,
 "nbformat_minor": 2
}
