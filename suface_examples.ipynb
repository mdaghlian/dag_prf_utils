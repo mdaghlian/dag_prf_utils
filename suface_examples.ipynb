{
 "cells": [
  {
   "attachments": {},
   "cell_type": "markdown",
   "metadata": {},
   "source": [
    "# Surface examples (+notes on colormaps)\n",
    "*Note that for many (almost all) cases you will be better off using pycortex; this simply provides a couple of alternative methods, should you want to do that.*\n",
    "\n",
    "Also make sure you have the relevant stuff installed ()\n",
    "\n",
    "I have created several tools for plotting data on the cortical surface. This will of course require that you have surface data (i.e., run freesurfer); and any data you want to plot will need to be in a vertex wise format. pycortex (https://github.com/gallantlab/pycortex) is a very powerful way of plotting information on the cortical surface and an excellent tool. Many of the tools here are already developed in pycortex. But I have 'remade' them - reason for doing this is to [1] improve my understanding of surface plotting generally, and [2] provide a way to plot surface data, where it is quite easy to see what is going on \"under the hood\". \n",
    "\n",
    "If you want to do some simple, quick and dirty stuff these tools might be useful. Also it can be useful to have the cortical mesh in a generic format readable by any 3D rendering software (e.g., .ply), and in a way that you can send a single file anywhere, and it be instantly readable, with color and everything. Similarly with blender, you can put loads of stuff into 1 single file (.blender), and have it useable anywhere. \n",
    "\n",
    "A basic overview on how to do the surface plotting. Including: \n",
    "\n",
    "[1] Freeview based \n",
    "\n",
    "[2] Blender\n",
    "\n",
    "[3] Generic .ply format\n",
    "\n",
    "\n",
    "\n",
    "*Note that for many cases you will be better off using pycortex; this simply provides a couple of alternative methods, should you want to do that.*"
   ]
  },
  {
   "cell_type": "code",
   "execution_count": 58,
   "metadata": {},
   "outputs": [
    {
     "name": "stdout",
     "output_type": "stream",
     "text": [
      "The autoreload extension is already loaded. To reload it, use:\n",
      "  %reload_ext autoreload\n"
     ]
    }
   ],
   "source": [
    "%load_ext autoreload\n",
    "%autoreload 2\n",
    "import numpy as np\n"
   ]
  },
  {
   "cell_type": "code",
   "execution_count": null,
   "metadata": {},
   "outputs": [],
   "source": [
    "sub = 'sub-01'                              # Subject number\n",
    "fs_dir = 'your/path/to/freesurefer/folder'  # e.g., /home/project1/derivatives/freesurfer\n",
    "\n",
    "# Load some data to plot on the surface (e.g., PRF eccentricity and polar angle):\n",
    "# -> should 1D np.ndarray, where the length = number of vertices in subject surface\n",
    "polar_angle_data = np.load('path/to/subjects/polar/angle/data')\n",
    "eccentricity_data = np.load('path/to/subjects/polar/angle/data')\n",
    "\n",
    "# ** Control visibility of data ** [using mask, or alpha, or both...] \n",
    "# If you don't want to show the values of every point (for example because it is outside the visual cortex). You may want to hide it. \n",
    "# If you are plotting PRFs, then you may want to hide the bad fits. So you can create a mask for where the rsq<threshold (e.g., 0.1)\n",
    "# data_mask: what to show (TRUE), what to hide (FALSE)\n",
    "# -> should boolean 1D np.ndarray, where the length = number of vertices in subject surface\n",
    "# -> if unspecified, all surface functions assume TRUE for all voxels\n",
    "data_mask = np.load('path/to/some/mask')\n",
    "\n",
    "# data_alpha: transparency (invisible = 0), (opaque = 1).\n",
    "# -> should be 1D np.ndarray, min=0, max=1.  where the length = number of vertices in subject surface\n",
    "# -> you could for example take the rsquared values of PRF fits and use this to determine the visibility of the prf data...\n",
    "data_alpha = np.load('path/to/some/alpha/values')\n"
   ]
  },
  {
   "attachments": {},
   "cell_type": "markdown",
   "metadata": {},
   "source": [
    "### [1] Using freeview\n",
    "* requires freeview \n",
    "* Specify the data, the mesh, and the mask (you can only use binary masking, the option for varying the transparency is not available here). \n",
    "* scripts will create a custom surf file, and the command (which contains the colormap info) to open it in freeview\n",
    "* The colormap can be anything from matplotlib. Just specify the min and max values. (https://matplotlib.org/stable/tutorials/colors/colormaps.html)\n",
    "* You can also specify the camera angle for when freeview opens, and ask it to automatically take a picture of the surface. This can be useful if you want to iterate through several subjects/surface plots and save the figures as pngs, but can't be bothered to sit and click again and again... "
   ]
  },
  {
   "cell_type": "code",
   "execution_count": null,
   "metadata": {},
   "outputs": [],
   "source": [
    "from dag_prf_utils.mesh_maker import FSMaker\n",
    "fs = FSMaker(sub=sub,fs_dir=fs_dir)\n",
    "\n",
    "# Add polar angle plot\n",
    "fs.add_surface(\n",
    "    data = polar_angle_data,\n",
    "    surf_name = f'{sub}-polar_angle',    \n",
    "    vmin = -3.14, vmax=3.14, # min and max values of polar anlge \n",
    "    data_mask=data_mask,\n",
    "    cmap = 'pol', # I have a custom color map that I got from a colleague for polar angle. (can also use 'hsv' instead)\n",
    ")\n",
    "\n",
    "# Add eccentricity\n",
    "fs.add_surface(\n",
    "    data = eccentricity_data,\n",
    "    surf_name = f'{sub}-eccentricity',    \n",
    "    vmin = 0, vmax = 5, # min and max values of eccentricity\n",
    "    data_mask=data_mask,\n",
    "    cmap = 'ecc', # Also a custom map for eccentricity, which scales nicely. (again you can use anything you like, including developing your own. ) \n",
    ")"
   ]
  },
  {
   "cell_type": "code",
   "execution_count": null,
   "metadata": {},
   "outputs": [],
   "source": [
    "# Now we can open one of the surfaces in freeview\n",
    "fs.open_fs_surface(\n",
    "    surf_name=f'{sub}-polar_angle',\n",
    "    mesh = 'inflated',          # what type of surface? inflated? pial?\n",
    "    )"
   ]
  },
  {
   "cell_type": "code",
   "execution_count": null,
   "metadata": {},
   "outputs": [],
   "source": [
    "# Maybe we want to open with a specific cameram angle and take a screenshot?\n",
    "fs.open_fs_surface(\n",
    "    surf_name=f'{sub}-polar_angle',\n",
    "    mesh = 'inflated',          # what type of surface? inflated? pial?\n",
    "    do_scrn_shot = True,\n",
    "    scr_shot_file = 'where/to/put/the/screenshot', # Optional...Can just put it in custom surf folder\n",
    "    # *** camer angles ***\n",
    "    azimuth = 10, zoom = 1, elevation=5, roll=0, \n",
    "    )"
   ]
  },
  {
   "attachments": {},
   "cell_type": "markdown",
   "metadata": {},
   "source": [
    "***"
   ]
  },
  {
   "attachments": {},
   "cell_type": "markdown",
   "metadata": {},
   "source": [
    "### Blender\n",
    "* requires freesurfer and blender\n",
    "* This is the most powerful approach and allows for a lot of customization (due to the blender api flexibility, which can be called via python)\n",
    "* The script will load the inflated and pial mesh, with the option to slide between the 2 (i.e. customize how inflated you want the surface to be)\n",
    "* You can load several colormaps at once, and flip between them \n",
    "* If you are feeling adventurous, you can even create an animation over time, (e.g., plot timecourse info on the surface). This is a bit experimental, and may take up a lot of data and computing power. I haven't fully explored it. \n"
   ]
  },
  {
   "cell_type": "code",
   "execution_count": null,
   "metadata": {},
   "outputs": [],
   "source": [
    "from dag_prf_utils.blender_tools import BlendMaker\n",
    "bm = BlendMaker(\n",
    "    sub=sub,\n",
    "    fs_dir=fs_dir,\n",
    "    out_dir='where/to/save/the/blender/files',    \n",
    ")\n",
    "# This will create a folder with 4 .ply meshes\n",
    "# -> left-inflated, right-inflated, left-pial, right-pial\n",
    "# & 2 csv files with rgb information for:\n",
    "# -> cortical curvature, cortical thickness"
   ]
  },
  {
   "cell_type": "code",
   "execution_count": null,
   "metadata": {},
   "outputs": [],
   "source": [
    "\n",
    "# Add polar angle plot\n",
    "bm.add_cmap(\n",
    "    data=polar_angle_data,\n",
    "    surf_name=f'{sub}-polar_angle',\n",
    "    data_mask=data_mask,\n",
    "    data_alpha=data_alpha,\n",
    "    vmin = -3.14, vmax=3.14, # min and max values of polar anlge \n",
    "    cmap = 'hsv',\n",
    ")\n",
    "# Add eccentricity\n",
    "bm.add_cmap(\n",
    "    data=polar_angle_data,\n",
    "    surf_name=f'{sub}-polar_angle',\n",
    "    data_mask=data_mask,\n",
    "    data_alpha=data_alpha,\n",
    "    vmin = -3.14, vmax=3.14, # min and max values of polar anlge \n",
    "    cmap = 'hsv',\n",
    ")\n",
    "\n",
    "# This will add 2 more csv files with rgb information for:\n",
    "# -> polar_angle, and eccentricity"
   ]
  },
  {
   "cell_type": "code",
   "execution_count": null,
   "metadata": {},
   "outputs": [],
   "source": [
    "# Now we can launch blender, and load in the .ply files and the rgb data...\n",
    "bm.launch_blender()\n"
   ]
  },
  {
   "attachments": {},
   "cell_type": "markdown",
   "metadata": {},
   "source": [
    "This may take a while. But once it is done, you can save everything together as one .blender file. You can open this file on its own, and everything will load very quickly. (so you only need to run this once, unless you change the data...)\n",
    "\n",
    "You can then do a number of cool things:\n",
    "\n",
    "* Inflate & deflate the hemispheres:    \n",
    "    * Select the hemisphere (click on it; it should then have an orange line outlining it). \n",
    "    * Click on the green triangle on the panel on the right\n",
    "    * Got to \"shape keys\"\n",
    "    * Click on interpolated\n",
    "    * There is a slider named \"Value\". Change the value here from 0-1 to inflate & deflate the hemisphere\n",
    "* Switch between different plots:\n",
    "    * Select the hemisphere (click on it)\n",
    "    * Click on the green triangle on the panel on the right\n",
    "    * Go to color attributes\n",
    "    * Click on what you want to show on the surface (e.g., polar_angle, curvature etc.)"
   ]
  },
  {
   "attachments": {},
   "cell_type": "markdown",
   "metadata": {},
   "source": [
    "***"
   ]
  },
  {
   "attachments": {},
   "cell_type": "markdown",
   "metadata": {},
   "source": [
    "### Generic .ply format\n",
    "* requires freesurfer \n",
    "* Specify the data, the mesh, and the mask (including an option for variable transparency). \n",
    "* can create a single .ply file (per hemisphere), which contains all the information about the mesh (vx coordinates, face id); the data values for each vertex, and a color value for each vertex (determined by the data, and specified colormap). \n",
    "* This can be opened by most 3D viewing software (e.g., meshlab, blender)...\n"
   ]
  },
  {
   "cell_type": "code",
   "execution_count": null,
   "metadata": {},
   "outputs": [],
   "source": [
    "from dag_prf_utils.mesh_maker import dag_fs_to_ply\n",
    "\n",
    "dag_fs_to_ply(\n",
    "    sub=sub, \n",
    "    data=polar_angle_data, \n",
    "    fs_dir=fs_dir, \n",
    "    mesh_name='inflated',                   # Could be pial\n",
    "    out_dir='where/to/save/the/ply/files',  # Output (multiple .ply files)\n",
    "    under_surf='curv',                      # What is going underneath the data (e.g., curvature)\n",
    "    # *** OPTIONAL ***\n",
    "    data_mask = data_mask,\n",
    "    data_alpha = data_alpha, \n",
    "    surf_name = f'{sub}-polar_angle',\n",
    "    cmap = 'hsv',\n",
    "    vmin = -3.14, vmax=3.14,\n",
    "    )\n",
    "# Now you can just navigate to out dir, and view the surface (.ply) file using any 3D renderer (e.g., meshlab, blender)\n",
    "\n",
    "# ... same again, but for eccentricity...\n",
    "dag_fs_to_ply(\n",
    "    sub=sub, \n",
    "    data=eccentricity_data, \n",
    "    fs_dir=fs_dir, \n",
    "    mesh_name='inflated',                   # Could be pial\n",
    "    out_dir='where/to/save/the/ply/files',  # Output (multiple .ply files)\n",
    "    under_surf='curv',                      # What is going underneath the data (e.g., curvature)\n",
    "    # *** OPTIONAL ***\n",
    "    data_mask = data_mask,\n",
    "    data_alpha = data_alpha, \n",
    "    surf_name = f'{sub}-eccentricity',\n",
    "    cmap = 'jet',\n",
    "    vmin = 0, vmax=5,\n",
    "    )"
   ]
  },
  {
   "attachments": {},
   "cell_type": "markdown",
   "metadata": {},
   "source": [
    "***"
   ]
  },
  {
   "attachments": {},
   "cell_type": "markdown",
   "metadata": {},
   "source": [
    "# A quick note on colormaps\n",
    "You can use any colormap specified in (https://matplotlib.org/stable/tutorials/colors/colormaps.html)\n",
    "\n",
    "Also you can create your own see below.\n",
    "\n",
    "If you have a custom colormap you particularly like. You can save it at the bottom of './plot_functions.py', in the same way that I have saved the 'pol' and 'ecc' custom colormaps. remember to add it to the 'custom_col_dict'"
   ]
  },
  {
   "cell_type": "code",
   "execution_count": 59,
   "metadata": {},
   "outputs": [
    {
     "data": {
      "image/png": "[encoded data removed]",
      "text/plain": [
       "<Figure size 432x288 with 1 Axes>"
      ]
     },
     "metadata": {
      "needs_background": "light"
     },
     "output_type": "display_data"
    },
    {
     "data": {
      "image/png": "[encoded data removed]",
      "text/plain": [
       "<Figure size 432x288 with 1 Axes>"
      ]
     },
     "metadata": {
      "needs_background": "light"
     },
     "output_type": "display_data"
    },
    {
     "data": {
      "image/png": "[encoded data removed]",
      "text/plain": [
       "<Figure size 432x288 with 1 Axes>"
      ]
     },
     "metadata": {
      "needs_background": "light"
     },
     "output_type": "display_data"
    }
   ],
   "source": [
    "from dag_prf_utils.plot_functions import *\n",
    "\n",
    "demo_mat = np.ones((10,100)) * np.arange(100)\n",
    "# You can load any of the defualt colormaps that exist in matplotlib\n",
    "eg_default_cmaps = {}\n",
    "eg_default_cmaps['jet'] = dag_get_cmap('jet')\n",
    "eg_default_cmaps['jet_r'] = dag_get_cmap('jet_r')\n",
    "eg_default_cmaps['hsv'] = dag_get_cmap('hsv')\n",
    "\n",
    "for eg_cmap in ['jet', 'jet_r', 'hsv']:\n",
    "    plt.figure()\n",
    "    plt.imshow(demo_mat, cmap=eg_default_cmaps[eg_cmap])\n",
    "    plt.title(eg_cmap)\n"
   ]
  },
  {
   "cell_type": "code",
   "execution_count": 60,
   "metadata": {},
   "outputs": [
    {
     "data": {
      "text/plain": [
       "Text(0.5, 1.0, 'Squish and stretch the cmap using col_steps')"
      ]
     },
     "execution_count": 60,
     "metadata": {},
     "output_type": "execute_result"
    },
    {
     "data": {
      "image/png": "[encoded data removed]",
      "text/plain": [
       "<Figure size 432x288 with 1 Axes>"
      ]
     },
     "metadata": {
      "needs_background": "light"
     },
     "output_type": "display_data"
    },
    {
     "data": {
      "image/png": "[encoded data removed]",
      "text/plain": [
       "<Figure size 432x288 with 1 Axes>"
      ]
     },
     "metadata": {
      "needs_background": "light"
     },
     "output_type": "display_data"
    },
    {
     "data": {
      "image/png": "[encoded data removed]",
      "text/plain": [
       "<Figure size 432x288 with 1 Axes>"
      ]
     },
     "metadata": {
      "needs_background": "light"
     },
     "output_type": "display_data"
    }
   ],
   "source": [
    "# To create a custom color map:\n",
    "# [1] cmap_name             name of your new cmap\n",
    "# [2] col_list              list of colors\n",
    "# [3] (optional) col_steps  list of numbers (how to space the list of colors...)\n",
    "\n",
    "cmap_name = 'custom_cmap1'\n",
    "col_list = [\n",
    "    (255,0,0),\n",
    "    (0,255,0),\n",
    "    (0, 0, 0)\n",
    "]\n",
    "\n",
    "# Put this together in a dictionary:\n",
    "custom_c_dict = {\n",
    "    'cmap_name' : cmap_name,\n",
    "    'col_list' : col_list,\n",
    "}\n",
    "cmap1 = dag_get_cmap(custom_c_dict)\n",
    "plt.figure()\n",
    "plt.imshow(demo_mat, cmap=cmap1)\n",
    "plt.title('custom 1')\n",
    "\n",
    "\n",
    "# You can also specify the spacing of the colors using a third component: col_steps\n",
    "custom_c_dict = {\n",
    "    'cmap_name' : cmap_name,\n",
    "    'col_list' : col_list,\n",
    "    'col_steps' : [0,.1,2], \n",
    "}\n",
    "plt.figure()\n",
    "plt.imshow(demo_mat, cmap=dag_get_cmap(custom_c_dict))\n",
    "plt.title('Squish and stretch the cmap using col_steps')\n",
    "\n",
    "\n",
    "# Nonlinear spacing\n",
    "custom_c_dict = {\n",
    "    'cmap_name' : cmap_name,\n",
    "    'col_list' : col_list,\n",
    "    'col_steps' : [0,1.9,2], # non-linear spacing...\n",
    "}\n",
    "plt.figure()\n",
    "plt.imshow(demo_mat, cmap=dag_get_cmap(custom_c_dict))\n",
    "plt.title('Squish and stretch the cmap using col_steps')\n",
    "\n"
   ]
  },
  {
   "cell_type": "code",
   "execution_count": 61,
   "metadata": {},
   "outputs": [
    {
     "data": {
      "text/plain": [
       "Text(0.5, 1.0, 'Using HEX colors')"
      ]
     },
     "execution_count": 61,
     "metadata": {},
     "output_type": "execute_result"
    },
    {
     "data": {
      "image/png": "[encoded data removed]",
      "text/plain": [
       "<Figure size 432x288 with 1 Axes>"
      ]
     },
     "metadata": {
      "needs_background": "light"
     },
     "output_type": "display_data"
    },
    {
     "data": {
      "image/png": "[encoded data removed]",
      "text/plain": [
       "<Figure size 432x288 with 1 Axes>"
      ]
     },
     "metadata": {
      "needs_background": "light"
     },
     "output_type": "display_data"
    },
    {
     "data": {
      "image/png": "[encoded data removed]",
      "text/plain": [
       "<Figure size 432x288 with 1 Axes>"
      ]
     },
     "metadata": {
      "needs_background": "light"
     },
     "output_type": "display_data"
    }
   ],
   "source": [
    "# This also supports a variety of ways of defining colors:\n",
    "custom_c_dict = {\n",
    "    'cmap_name' : 'blah',\n",
    "    'col_list' : ['r', 'b', 'c'],\n",
    "}\n",
    "plt.figure()\n",
    "plt.imshow(demo_mat, cmap=dag_get_cmap(custom_c_dict))\n",
    "plt.title('Using matplotlib color letters')\n",
    "\n",
    "\n",
    "custom_c_dict = {\n",
    "    'cmap_name' : 'blah',\n",
    "    'col_list' : ['red', 'cyan', 'green'],\n",
    "}\n",
    "plt.figure()\n",
    "plt.imshow(demo_mat, cmap=dag_get_cmap(custom_c_dict))\n",
    "plt.title('Using matplotlib color names')\n",
    "\n",
    "\n",
    "custom_c_dict = {\n",
    "    'cmap_name' : 'blah',\n",
    "    'col_list' : ['#1b9e77','#d95f02','#7570b3'],\n",
    "}\n",
    "plt.figure()\n",
    "plt.imshow(demo_mat, cmap=dag_get_cmap(custom_c_dict))\n",
    "plt.title('Using HEX colors')\n",
    "\n"
   ]
  }
 ],
 "metadata": {
  "kernelspec": {
   "display_name": "ls_dag",
   "language": "python",
   "name": "python3"
  },
  "language_info": {
   "codemirror_mode": {
    "name": "ipython",
    "version": 3
   },
   "file_extension": ".py",
   "mimetype": "text/x-python",
   "name": "python",
   "nbconvert_exporter": "python",
   "pygments_lexer": "ipython3",
   "version": "3.9.10"
  },
  "orig_nbformat": 4
 },
 "nbformat": 4,
 "nbformat_minor": 2
}
