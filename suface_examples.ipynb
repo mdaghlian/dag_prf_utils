{
 "cells": [
  {
   "attachments": {},
   "cell_type": "markdown",
   "metadata": {},
   "source": [
    "# Surface examples\n",
    "*Note that for many (almost all) cases you will be better off using pycortex; this simply provides a couple of alternative methods, should you want to do that.*\n",
    "\n",
    "I have created several tools for plotting data on the cortical surface. This will of course require that you have surface data (i.e., run freesurfer); and any data you want to plot will need to be in a vertex wise format. pycortex (https://github.com/gallantlab/pycortex) is a very powerful way of plotting information on the cortical surface and an excellent tool. Many of the tools here are already developed in pycortex. But I have 'remade' them. The main reason for doing this is to improve my understanding of surface plotting generally, and also to improve my understanding of pycortex. \n",
    "\n",
    "If you want to do some simple, quick and dirty stuff these tools might be useful. Also it can be useful to have the cortical mesh in a generic format readable by any 3D rendering software (e.g., .ply), and in a way that you can send a single file anywhere, and it be instantly readable, with color and everything. \n",
    "\n",
    "A basic overview on how to do the surface plotting. Including: \n",
    "\n",
    "[1] Freeview based \n",
    "\n",
    "[2] Blender\n",
    "\n",
    "[3] Generic .ply format\n",
    "\n",
    "\n",
    "\n",
    "*Note that for many (almost all) cases you will be better off using pycortex; this simply provides a couple of alternative methods, should you want to do that.*"
   ]
  },
  {
   "cell_type": "code",
   "execution_count": null,
   "metadata": {},
   "outputs": [],
   "source": [
    "%load_ext autoreload\n",
    "%autoreload 2\n",
    "import numpy as np\n"
   ]
  },
  {
   "cell_type": "code",
   "execution_count": null,
   "metadata": {},
   "outputs": [],
   "source": [
    "sub = 'sub-01'                              # Subject number\n",
    "fs_dir = 'your/path/to/freesurefer/folder'  # e.g., /home/project1/derivatives/freesurfer\n",
    "\n",
    "# Load some data to plot on the surface (e.g., PRF eccentricity and polar angle):\n",
    "# -> should 1D np.ndarray, where the length = number of vertices in subject surface\n",
    "polar_angle_data = np.load('path/to/subjects/polar/angle/data')\n",
    "eccentricity_data = np.load('path/to/subjects/polar/angle/data')\n",
    "\n",
    "# Load some data to mask. (e.g., where the polar angle estimates are not good enough). \n",
    "# -> should 1D np.ndarray, where the length = number of vertices in subject surface\n",
    "data_mask = np.load('path/to/some/mask')\n",
    "# Load some data to determine alpha values (i.e., vary transparency of the data plot on the surface). (e.g., quality of prf fit). \n",
    "# -> should 1D np.ndarray, where the length = number of vertices in subject surface\n",
    "data_alpha = np.load('path/to/some/alpha/values')\n"
   ]
  },
  {
   "attachments": {},
   "cell_type": "markdown",
   "metadata": {},
   "source": [
    "### [1] Using freeview\n",
    "* requires freeview, and nibabel. \n",
    "* Specify the data, the mesh, and the mask (you can only use binary masking, the option for varying the transparency is not available here). \n",
    "* scripts will create a custom surf file, and the command (which contains the colormap info) to open it in freeview\n",
    "* The colormap can be anything from matplotlib. Just specify the min and max values. (https://matplotlib.org/stable/tutorials/colors/colormaps.html)\n",
    "* You can also specify the camera angle for when freeview opens, and ask it to automatically take a picture of the surface. This can be useful if you want to iterate through several subjects/surface plots and save the figures as pngs, but can't be bothered to sit and click again and again... "
   ]
  },
  {
   "cell_type": "code",
   "execution_count": null,
   "metadata": {},
   "outputs": [],
   "source": [
    "from dag_prf_utils.mesh_maker import FSMaker\n",
    "fs = FSMaker(sub=sub,fs_dir=fs_dir)\n",
    "\n",
    "# Add polar angle plot\n",
    "fs.add_surface(\n",
    "    data = polar_angle_data,\n",
    "    surf_name = f'{sub}-polar_angle',    \n",
    "    vmin = -3.14, vmax=3.14, # min and max values of polar anlge \n",
    "    data_mask=data_mask,\n",
    "    cmap = 'hsv', # using hsv for polar angle, can use something else...\n",
    ")\n",
    "\n",
    "# Add eccentricity\n",
    "fs.add_surface(\n",
    "    data = eccentricity_data,\n",
    "    surf_name = f'{sub}-eccentricity',    \n",
    "    vmin = 0, vmax = 5, # min and max values of eccentricity\n",
    "    data_mask=data_mask,\n",
    "    cmap = 'jet', # using jet for polar angle, can use something else...\n",
    ")"
   ]
  },
  {
   "cell_type": "code",
   "execution_count": null,
   "metadata": {},
   "outputs": [],
   "source": [
    "# Now we can open one of the surfaces in freeview\n",
    "fs.open_fs_surface(\n",
    "    surf_name=f'{sub}-polar_angle',\n",
    "    mesh = 'inflated',          # what type of surface? inflated? pial?\n",
    "    )"
   ]
  },
  {
   "cell_type": "code",
   "execution_count": null,
   "metadata": {},
   "outputs": [],
   "source": [
    "# Maybe we want to open with a specific cameram angle and take a screenshot?\n",
    "fs.open_fs_surface(\n",
    "    surf_name=f'{sub}-polar_angle',\n",
    "    mesh = 'inflated',          # what type of surface? inflated? pial?\n",
    "    do_scrn_shot = True,\n",
    "    scr_shot_file = 'where/to/put/the/screenshot', # Optional...Can just put it in custom surf folder\n",
    "    # *** camer angles ***\n",
    "    azimuth = 10, zoom = 1, elevation=5, roll=0, \n",
    "    )"
   ]
  },
  {
   "attachments": {},
   "cell_type": "markdown",
   "metadata": {},
   "source": [
    "***"
   ]
  },
  {
   "attachments": {},
   "cell_type": "markdown",
   "metadata": {},
   "source": [
    "### Blender\n",
    "* requires freesurfer and blender\n",
    "* This is the most powerful approach and allows for a lot of customization (due to the blender api flexibility, which can be called via python)\n",
    "* The script will load the inflated and pial mesh, with the option to slide between the 2 (i.e. customize how inflated you want the surface to be)\n",
    "* You can load several colormaps at once, and flip between them \n",
    "* If you are feeling adventurous, you can even create an animation over time, (e.g., plot timecourse info on the surface). This is a bit experimental, and may take up a lot of data and computing power. I haven't fully explored it. \n"
   ]
  },
  {
   "cell_type": "code",
   "execution_count": null,
   "metadata": {},
   "outputs": [],
   "source": [
    "from dag_prf_utils.blender_tools import BlendMaker\n",
    "bm = BlendMaker(\n",
    "    sub=sub,\n",
    "    fs_dir=fs_dir,\n",
    "    out_dir='where/to/save/the/blender/files',    \n",
    ")\n",
    "# This will create a folder with 4 .ply meshes\n",
    "# -> left-inflated, right-inflated, left-pial, right-pial\n",
    "# & 2 csv files with rgb information for:\n",
    "# -> cortical curvature, cortical thickness"
   ]
  },
  {
   "cell_type": "code",
   "execution_count": null,
   "metadata": {},
   "outputs": [],
   "source": [
    "\n",
    "# Add polar angle plot\n",
    "bm.add_cmap(\n",
    "    data=polar_angle_data,\n",
    "    surf_name=f'{sub}-polar_angle',\n",
    "    data_mask=data_mask,\n",
    "    data_alpha=data_alpha,\n",
    "    vmin = -3.14, vmax=3.14, # min and max values of polar anlge \n",
    "    cmap = 'hsv',\n",
    ")\n",
    "# Add eccentricity\n",
    "bm.add_cmap(\n",
    "    data=polar_angle_data,\n",
    "    surf_name=f'{sub}-polar_angle',\n",
    "    data_mask=data_mask,\n",
    "    data_alpha=data_alpha,\n",
    "    vmin = -3.14, vmax=3.14, # min and max values of polar anlge \n",
    "    cmap = 'hsv',\n",
    ")\n",
    "\n",
    "# This will add 2 more csv files with rgb information for:\n",
    "# -> polar_angle, and eccentricity"
   ]
  },
  {
   "cell_type": "code",
   "execution_count": null,
   "metadata": {},
   "outputs": [],
   "source": [
    "# Now we can launch blender, and load in the .ply files and the rgb data...\n",
    "bm.launch_blender()\n"
   ]
  },
  {
   "attachments": {},
   "cell_type": "markdown",
   "metadata": {},
   "source": [
    "This may take a while. But once it is done, you can save everything together as one .blender file. You can open this file on its own, and everything will load very quickly. (so you only need to run this once, unless you change the data...)\n",
    "\n",
    "You can then do a number of cool things:\n",
    "\n",
    "* Inflate & deflate the hemispheres:    \n",
    "    * Select the hemisphere (click on it; it should then have an orange line outlining it). \n",
    "    * Click on the green triangle on the panel on the right\n",
    "    * Got to \"shape keys\"\n",
    "    * Click on interpolated\n",
    "    * There is a slider named \"Value\". Change the value here from 0-1 to inflate & deflate the hemisphere\n",
    "* Switch between different plots:\n",
    "    * Select the hemisphere (click on it)\n",
    "    * Click on the green triangle on the panel on the right\n",
    "    * Go to color attributes\n",
    "    * Click on what you want to show on the surface (e.g., polar_angle, curvature etc.)"
   ]
  },
  {
   "attachments": {},
   "cell_type": "markdown",
   "metadata": {},
   "source": [
    "***"
   ]
  },
  {
   "attachments": {},
   "cell_type": "markdown",
   "metadata": {},
   "source": [
    "### Generic .ply format\n",
    "* requires freesurfer \n",
    "* Specify the data, the mesh, and the mask (including an option for variable transparency). \n",
    "* can create a single .ply file (per hemisphere), which contains all the information about the mesh (vx coordinates, face id); the data values for each vertex, and a color value for each vertex (determined by the data, and specified colormap). \n",
    "* This can be opened by most 3D viewing software (e.g., meshlab, blender)...\n"
   ]
  },
  {
   "cell_type": "code",
   "execution_count": null,
   "metadata": {},
   "outputs": [],
   "source": [
    "from dag_prf_utils.mesh_maker import dag_fs_to_ply\n",
    "\n",
    "dag_fs_to_ply(\n",
    "    sub=sub, \n",
    "    data=polar_angle_data, \n",
    "    fs_dir=fs_dir, \n",
    "    mesh_name='inflated',                   # Could be pial\n",
    "    out_dir='where/to/save/the/ply/files',  # Output (multiple .ply files)\n",
    "    under_surf='curv',                      # What is going underneath the data (e.g., curvature)\n",
    "    # *** OPTIONAL ***\n",
    "    data_mask = data_mask,\n",
    "    data_alpha = data_alpha, \n",
    "    surf_name = f'{sub}-polar_angle',\n",
    "    cmap = 'hsv',\n",
    "    vmin = -3.14, vmax=3.14,\n",
    "    )\n",
    "# Now you can just navigate to out dir, and view the surface (.ply) file using any 3D renderer (e.g., meshlab, blender)\n",
    "\n",
    "# ... same again, but for eccentricity...\n",
    "dag_fs_to_ply(\n",
    "    sub=sub, \n",
    "    data=eccentricity_data, \n",
    "    fs_dir=fs_dir, \n",
    "    mesh_name='inflated',                   # Could be pial\n",
    "    out_dir='where/to/save/the/ply/files',  # Output (multiple .ply files)\n",
    "    under_surf='curv',                      # What is going underneath the data (e.g., curvature)\n",
    "    # *** OPTIONAL ***\n",
    "    data_mask = data_mask,\n",
    "    data_alpha = data_alpha, \n",
    "    surf_name = f'{sub}-eccentricity',\n",
    "    cmap = 'jet',\n",
    "    vmin = 0, vmax=5,\n",
    "    )"
   ]
  }
 ],
 "metadata": {
  "kernelspec": {
   "display_name": "ls_dag",
   "language": "python",
   "name": "python3"
  },
  "language_info": {
   "name": "python",
   "version": "3.9.10"
  },
  "orig_nbformat": 4
 },
 "nbformat": 4,
 "nbformat_minor": 2
}
