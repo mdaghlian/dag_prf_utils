{
 "cells": [
  {
   "attachments": {},
   "cell_type": "markdown",
   "metadata": {},
   "source": [
    "# dag_prf_utils demos\n",
    "\n",
    "A basic overview on surface plotting, and colormaps: \n",
    "\n",
    "[1] Freeview based (I almost exclusively use this). There are also a bunch of command line tools you can use with this (see )\n",
    "\n",
    "[2] Plotly + dash based. Exciting, allows you to do some cool interactive things. (also option for single htmls, less interactive though) \n",
    "\n",
    "[3] Generic .ply based plotting (export to a .ply mesh. Open with meshlab)\n",
    "\n",
    "[4] Blender\n",
    "\n",
    "[5] Colormaps\n",
    "\n",
    "*Note that for many cases you will be better off using pycortex; this simply provides a couple of alternative methods, should you want to do that.*"
   ]
  },
  {
   "cell_type": "code",
   "execution_count": 1,
   "metadata": {},
   "outputs": [
    {
     "name": "stdout",
     "output_type": "stream",
     "text": [
      "The autoreload extension is already loaded. To reload it, use:\n",
      "  %reload_ext autoreload\n"
     ]
    }
   ],
   "source": [
    "%load_ext autoreload\n",
    "%autoreload 2\n",
    "import numpy as np\n",
    "import os\n"
   ]
  },
  {
   "cell_type": "code",
   "execution_count": 2,
   "metadata": {},
   "outputs": [
    {
     "ename": "FileNotFoundError",
     "evalue": "[Errno 2] No such file or directory: 'path/to/subjects/polar/angle/data'",
     "output_type": "error",
     "traceback": [
      "\u001b[0;31m---------------------------------------------------------------------------\u001b[0m",
      "\u001b[0;31mFileNotFoundError\u001b[0m                         Traceback (most recent call last)",
      "Cell \u001b[0;32mIn[2], line 7\u001b[0m\n\u001b[1;32m      2\u001b[0m fs_dir \u001b[38;5;241m=\u001b[39m \u001b[38;5;124m'\u001b[39m\u001b[38;5;124m~/home/project1/derivatives/freesurfer\u001b[39m\u001b[38;5;124m'\u001b[39m   \u001b[38;5;66;03m# e.g., /home/project1/derivatives/freesurfer\u001b[39;00m\n\u001b[1;32m      4\u001b[0m \u001b[38;5;66;03m# Load some data to plot on the surface (e.g., PRF eccentricity and polar angle):\u001b[39;00m\n\u001b[1;32m      5\u001b[0m \u001b[38;5;66;03m# -> should 1D np.ndarray, where the length = number of vertices in subject surface\u001b[39;00m\n\u001b[0;32m----> 7\u001b[0m polar_angle_data \u001b[38;5;241m=\u001b[39m \u001b[43mnp\u001b[49m\u001b[38;5;241;43m.\u001b[39;49m\u001b[43mload\u001b[49m\u001b[43m(\u001b[49m\u001b[38;5;124;43m'\u001b[39;49m\u001b[38;5;124;43mpath/to/subjects/polar/angle/data\u001b[39;49m\u001b[38;5;124;43m'\u001b[39;49m\u001b[43m)\u001b[49m\n\u001b[1;32m      8\u001b[0m eccentricity_data \u001b[38;5;241m=\u001b[39m np\u001b[38;5;241m.\u001b[39mload(\u001b[38;5;124m'\u001b[39m\u001b[38;5;124mpath/to/subjects/polar/angle/data\u001b[39m\u001b[38;5;124m'\u001b[39m)\n\u001b[1;32m     10\u001b[0m \u001b[38;5;66;03m# ** Control visibility of data ** [using mask, or alpha, or both...] \u001b[39;00m\n\u001b[1;32m     11\u001b[0m \u001b[38;5;66;03m# If you don't want to show the values of every point (for example because it is outside the visual cortex). You may want to hide it. \u001b[39;00m\n\u001b[1;32m     12\u001b[0m \u001b[38;5;66;03m# If you are plotting PRFs, then you may want to hide the bad fits. So you can create a mask for where the rsq<threshold (e.g., 0.1)\u001b[39;00m\n\u001b[1;32m     13\u001b[0m \u001b[38;5;66;03m# data_mask: what to show (TRUE), what to hide (FALSE)\u001b[39;00m\n\u001b[1;32m     14\u001b[0m \u001b[38;5;66;03m# -> should boolean 1D np.ndarray, where the length = number of vertices in subject surface\u001b[39;00m\n\u001b[1;32m     15\u001b[0m \u001b[38;5;66;03m# -> if unspecified, all surface functions assume TRUE for all voxels\u001b[39;00m\n",
      "File \u001b[0;32m~/.conda/envs/dag_mcmc/lib/python3.9/site-packages/numpy/lib/npyio.py:417\u001b[0m, in \u001b[0;36mload\u001b[0;34m(file, mmap_mode, allow_pickle, fix_imports, encoding)\u001b[0m\n\u001b[1;32m    415\u001b[0m     own_fid \u001b[38;5;241m=\u001b[39m \u001b[38;5;28;01mFalse\u001b[39;00m\n\u001b[1;32m    416\u001b[0m \u001b[38;5;28;01melse\u001b[39;00m:\n\u001b[0;32m--> 417\u001b[0m     fid \u001b[38;5;241m=\u001b[39m stack\u001b[38;5;241m.\u001b[39menter_context(\u001b[38;5;28;43mopen\u001b[39;49m\u001b[43m(\u001b[49m\u001b[43mos_fspath\u001b[49m\u001b[43m(\u001b[49m\u001b[43mfile\u001b[49m\u001b[43m)\u001b[49m\u001b[43m,\u001b[49m\u001b[43m \u001b[49m\u001b[38;5;124;43m\"\u001b[39;49m\u001b[38;5;124;43mrb\u001b[39;49m\u001b[38;5;124;43m\"\u001b[39;49m\u001b[43m)\u001b[49m)\n\u001b[1;32m    418\u001b[0m     own_fid \u001b[38;5;241m=\u001b[39m \u001b[38;5;28;01mTrue\u001b[39;00m\n\u001b[1;32m    420\u001b[0m \u001b[38;5;66;03m# Code to distinguish from NumPy binary files and pickles.\u001b[39;00m\n",
      "\u001b[0;31mFileNotFoundError\u001b[0m: [Errno 2] No such file or directory: 'path/to/subjects/polar/angle/data'"
     ]
    }
   ],
   "source": [
    "sub = 'sub-01'                                      # Subject number\n",
    "fs_dir = '~/home/project1/derivatives/freesurfer'   # e.g., /home/project1/derivatives/freesurfer\n",
    "\n",
    "# Load some data to plot on the surface (e.g., PRF eccentricity and polar angle):\n",
    "# -> should 1D np.ndarray, where the length = number of vertices in subject surface\n",
    "\n",
    "polar_angle_data = np.load('path/to/subjects/polar/angle/data')\n",
    "eccentricity_data = np.load('path/to/subjects/polar/angle/data')\n",
    "\n",
    "# ** Control visibility of data ** [using mask, or alpha, or both...] \n",
    "# If you don't want to show the values of every point (for example because it is outside the visual cortex). You may want to hide it. \n",
    "# If you are plotting PRFs, then you may want to hide the bad fits. So you can create a mask for where the rsq<threshold (e.g., 0.1)\n",
    "# data_mask: what to show (TRUE), what to hide (FALSE)\n",
    "# -> should boolean 1D np.ndarray, where the length = number of vertices in subject surface\n",
    "# -> if unspecified, all surface functions assume TRUE for all voxels\n",
    "data_mask = np.load('path/to/some/mask')\n",
    "\n",
    "# data_alpha: transparency (invisible = 0), (opaque = 1).\n",
    "# -> should be 1D np.ndarray, min=0, max=1.  where the length = number of vertices in subject surface\n",
    "# -> you could for example take the rsquared values of PRF fits and use this to determine the visibility of the prf data...\n",
    "data_alpha = np.load('path/to/some/alpha/values')\n",
    "\n",
    "\n",
    "# Often you will do this based on the rsquared of your model\n",
    "data_rsq = np.load('/path/to/some/rsq/values')"
   ]
  },
  {
   "attachments": {},
   "cell_type": "markdown",
   "metadata": {},
   "source": [
    "### [1] Using freeview\n",
    "* requires freeview \n",
    "* Specify the data, the mesh, and the mask (you can only use binary masking, the option for varying the transparency is not available here). \n",
    "* scripts will create a custom surf file, and the command (which contains the colormap info) to open it in freeview\n",
    "* The colormap can be anything from matplotlib. Just specify the min and max values. (https://matplotlib.org/stable/tutorials/colors/colormaps.html)\n",
    "* You can also specify the camera angle for when freeview opens, and ask it to automatically take a picture of the surface. This can be useful if you want to iterate through several subjects/surface plots and save the figures as pngs, but can't be bothered to sit and click again and again... "
   ]
  },
  {
   "cell_type": "code",
   "execution_count": null,
   "metadata": {},
   "outputs": [],
   "source": [
    "from dag_prf_utils.fs_tools import FSMaker\n",
    "fs = FSMaker(sub=sub,fs_dir=fs_dir)\n",
    "\n",
    "# Add polar angle plot\n",
    "fs.add_surface(\n",
    "    data = polar_angle_data,\n",
    "    surf_name = f'{sub}-polar_angle',    \n",
    "    vmin = -3.14, vmax=3.14, # min and max values of polar anlge \n",
    "    data_mask=data_mask,\n",
    "    cmap = 'marco_pol', # A colleague (Marco Aqil) suggested this custom color map for polar angles. I called it 'marco_pol'\n",
    ")\n",
    "\n",
    "# Add eccentricity\n",
    "fs.add_surface(\n",
    "    data = eccentricity_data,\n",
    "    surf_name = f'{sub}-eccentricity',    \n",
    "    vmin = 0, vmax = 5, # min and max values of eccentricity\n",
    "    data_mask=data_mask,\n",
    "    cmap = 'ecc', # Also a custom map for eccentricity, which scales nicely. (again you can use anything you like, including developing your own. ) \n",
    ")"
   ]
  },
  {
   "cell_type": "code",
   "execution_count": null,
   "metadata": {},
   "outputs": [],
   "source": [
    "# Now we can open one of the surfaces in freeview\n",
    "fs.open_fs_surface(\n",
    "    surf_name=f'{sub}-polar_angle',\n",
    "    mesh = 'inflated',          # what type of surface? inflated? pial?\n",
    "    )"
   ]
  },
  {
   "cell_type": "markdown",
   "metadata": {},
   "source": [
    "I've written many possible things you can do with this. See the notes for 'write_fs_cmd'\n",
    "\n",
    "For write_fs_cmd\n",
    "        '''\n",
    "        Write the bash command to open the specific surface with the overlay\n",
    "\n",
    "        **kwargs \n",
    "        surf_name       which surface(s) to open (of the custom ones you have made)\n",
    "        mesh_list       which mesh(es) to plot the surface info on (e.g., inflated, pial...)\n",
    "        hemi_list       which hemispheres to load\n",
    "        roi_list        which roi outlines to load\n",
    "        roi_col_spec    if loading rois, what color? If not specified will do different colors for each nes     \n",
    "        roi_mask        mask by roi?\n",
    "        keep_running    keep running the command (use \"&\" at the end of the command). Useful if you want to take many screen shots.\n",
    "        shading_off     Turn of shading? i.e., don't make it darker underneath. Default is false        \n",
    "        do_scrn_shot    bool            take a screenshot of the surface when it is loaded?\n",
    "        scr_shot_file   str             Where to put the screenshot. If not specified goes in custom surface dir\n",
    "        azimuth         float           camera angle(0-360) Default: 0\n",
    "        zoom            float           camera zoom         Default: 1.00\n",
    "        elevation       float           camera angle(0-360) Default: 0\n",
    "        roll            float           camera angle(0-360) Default: 0        \n",
    "        do_col_bar      bool            show color bar at the end. Default is true\n",
    "        TODO: add argument 'extra_kwargs'. Dict which gives custom kwargs...\n",
    "        '''\n",
    "\n",
    "See also dag_make_overlay_str"
   ]
  },
  {
   "cell_type": "code",
   "execution_count": null,
   "metadata": {},
   "outputs": [],
   "source": [
    "# Maybe we want to open with a specific cameram angle and take a screenshot?\n",
    "fs.open_fs_surface(\n",
    "    surf_name=f'{sub}-polar_angle',\n",
    "    mesh = 'inflated',          # what type of surface? inflated? pial?\n",
    "    do_scr_shot = True,\n",
    "    scr_shot_file = 'where/to/put/the/screenshot', # Optional...Can just put it in custom surf folder\n",
    "    # *** camera angles ***\n",
    "    azimuth = 10, zoom = 1, elevation=5, roll=0, \n",
    "    )"
   ]
  },
  {
   "cell_type": "markdown",
   "metadata": {},
   "source": [
    "Command line options\n",
    "Inside /bin/\n",
    "\n",
    "See the functions themselves for specifics  \n",
    "```\n",
    "\n",
    "dag_auto_FS_surf_from_file          Automatically make freesurfer surfaces given a .npy or pickle file (i.e., from saved prf parameters)\n",
    "\n",
    "dag_clean_custom_surfs              Remove custom surfaces put in the subjects FS dir\n",
    "\n",
    "dag_make_fs_overlay                 Make an fs_overlay (something you can load in freesurfer to determine the colomap)\n",
    "\n",
    "dag_open_sub_surf                   Open any subjects surface in there custom surf folder, inside freesurfer (i.e. surfaces that you have made before)\n",
    "\n",
    "dag_print_custom_rois               Print all the rois matching a certain pattern in a FS folder\n",
    "\n",
    "dag_print_custom_surfs              Print all the surfaces matching a certain pattern in a FS folder\n",
    "\n",
    "```"
   ]
  },
  {
   "cell_type": "markdown",
   "metadata": {},
   "source": [
    "***"
   ]
  },
  {
   "cell_type": "markdown",
   "metadata": {},
   "source": [
    "### Using pycortex\n",
    "* requires pycortex \n",
    "* as above"
   ]
  },
  {
   "cell_type": "code",
   "execution_count": null,
   "metadata": {},
   "outputs": [],
   "source": [
    "from dag_prf_utils.pycortex import set_ctx_path,PyctxMaker\n",
    "# Make sure pycortex is pointing to correct folder\n",
    "# set_ctx_path('/path/to/pycortex/files')\n",
    "\n",
    "pm = PyctxMaker(\n",
    "    sub = sub,\n",
    "    fs_dir = fs_dir, \n",
    "    output_dir = 'z_pyctx',\n",
    "    ctx_path='/path/to/pycortex/files'\n",
    "    )\n",
    "# Add polar angle plot\n",
    "pm.add_vertex_obj(\n",
    "    data = polar_angle_data,\n",
    "    surf_name = f'{sub}-polar_angle',    \n",
    "    vmin = -3.14, vmax=3.14, # min and max values of polar anlge \n",
    "    data_mask=data_mask,\n",
    "    cmap = 'marco_pol', # A colleague (Marco Aqil) suggested this custom color map for polar angles. I called it 'marco_pol'\n",
    ")\n",
    "\n",
    "# Add eccentricity\n",
    "pm.add_vertex_obj(\n",
    "    data = eccentricity_data,\n",
    "    surf_name = f'{sub}-eccentricity',    \n",
    "    vmin = 0, vmax = 5, # min and max values of eccentricity\n",
    "    data_mask=data_mask,\n",
    "    cmap = 'ecc2', # Also a custom map for eccentricity, which scales nicely. (again you can use anything you like, including developing your own. ) \n",
    ")\n"
   ]
  },
  {
   "cell_type": "code",
   "execution_count": null,
   "metadata": {},
   "outputs": [],
   "source": [
    "# To open from here:\n",
    "pm.return_pyc_saver(\n",
    "    save_cm=True,\n",
    "    viewer=True, # open or don;t open the webviewer\n",
    ")\n",
    "\n",
    "\n",
    "# To save as a static file \n",
    "# pm.pyc.to_static(filename='blah_static') # to save as static file \n",
    "# to run just do \n",
    "# python -m http.server 8000 \n",
    "# open http://localhost:8000 in browser\n"
   ]
  },
  {
   "cell_type": "markdown",
   "metadata": {},
   "source": [
    "***"
   ]
  },
  {
   "cell_type": "markdown",
   "metadata": {},
   "source": [
    "### Plotly plotting\n",
    "* requires plotly library (conda install)\n",
    "* You can plot a mesh inline in a notebook! \n",
    "* You can also export it to an html file, which any computer can read! They will be able to interact with it too\n",
    "* Can put more than one in a single html (i.e., subfigures)\n",
    "* Plus a bunch of other stuff is probably possible\n"
   ]
  },
  {
   "cell_type": "code",
   "execution_count": null,
   "metadata": {},
   "outputs": [],
   "source": [
    "from plotly.subplots import make_subplots\n",
    "import plotly.graph_objects as go\n",
    "from dag_prf_utils.mesh_dash import dag_mesh_pickle, MeshDash"
   ]
  },
  {
   "cell_type": "markdown",
   "metadata": {},
   "source": [
    "##### To make interactive dash in browser\n",
    "You can toggle the:\n",
    "* rsq threshold\n",
    "* inflation (pial-inflated)\n",
    "* colormaps (any possible matplolib); vmin, vmax\n",
    "* show ROIs, or not... "
   ]
  },
  {
   "cell_type": "code",
   "execution_count": null,
   "metadata": {},
   "outputs": [],
   "source": [
    "\n",
    "fs = MeshDash(\n",
    "    sub, \n",
    "    fs_dir=fs_dir,\n",
    "    output_dir='z_dash',\n",
    "    )\n",
    "fs.web_get_ready()\n",
    "fs.web_add_vx_col(\n",
    "    data=polar_angle_data,\n",
    "    data4mask =data_rsq,\n",
    "    vmin=-np.pi, vmax=np.pi, \n",
    "    cmap='marco_pol', \n",
    "    vx_col_name=f'pol'\n",
    ")\n",
    "\n",
    "fs.web_add_vx_col(\n",
    "    data=eccentricity_data, \n",
    "    data4mask =data_rsq,\n",
    "    cmap='ecc2', \n",
    "    vmin=0, vmax=5, \n",
    "    vx_col_name=f'ecc'\n",
    ")\n",
    "\n",
    "# Other cool things....\n",
    "# you can add ROIs\n",
    "fs.web_add_roi(roi_list='V1')\n",
    "\n",
    "# You can also add conditional functions to do plotting. \n",
    "# For example if you have a function to plot the timeseries put that here \n",
    "def my_plot_function(vertex_id):\n",
    "    fig = plt.figure()\n",
    "    # Do some plotting based on the vertex...\n",
    "    return fig\n",
    "\n",
    "fs.web_add_mpl_fig_maker(my_plot_function) # you can add more than one...\n",
    "\n"
   ]
  },
  {
   "cell_type": "code",
   "execution_count": null,
   "metadata": {},
   "outputs": [],
   "source": [
    "# To launch app from here \n",
    "app = fs.web_launch_with_dash(assets_type='boring') # change to exciting to use silly fonts...\n",
    "# Open the app in a browser\n",
    "# Do not show it in the notebook\n",
    "app.run_server(mode='external', host='127.0.0.1', port=8000, debug=False, use_reloader=False) \n"
   ]
  },
  {
   "cell_type": "code",
   "execution_count": null,
   "metadata": {},
   "outputs": [],
   "source": [
    "# To save it to a pickle \n",
    "dag_mesh_pickle(fs) # dumps it as a pickle file\n",
    "\n",
    "# Use /bin/dag_open_dash_surf <pickle-file>\n",
    "# If you get the error\n",
    "# PicklingError: Can't pickle <class 'dag_prf_utils.mesh_dash.MeshDash'>: it's not the same object as dag_prf_utils.mesh_dash.MeshDash\n",
    "# Try restarting your kernel and running again..."
   ]
  },
  {
   "cell_type": "markdown",
   "metadata": {},
   "source": [
    "Also can do automatic loading of prf parameter files \n",
    "\n",
    "bin/dag_auto_dash_surf_from_file "
   ]
  },
  {
   "cell_type": "markdown",
   "metadata": {},
   "source": [
    "##### To export html files (don't bother with dash, less interactive)"
   ]
  },
  {
   "cell_type": "code",
   "execution_count": null,
   "metadata": {},
   "outputs": [],
   "source": [
    "\n",
    "gmm = MeshDash(\n",
    "    sub=sub, \n",
    "    fs_dir=fs_dir,\n",
    "    output_dir='z_gmm_plotly') # Make the 'generic mesh maker' instance\n",
    "# Make 2 plots side by side showing polar angle and eccentricity\n",
    "\n",
    "n_rows = 1\n",
    "n_cols = 2\n",
    "\n",
    "# Create plotly fig with subplots\n",
    "fig = make_subplots(rows=n_rows, cols=n_cols, specs=[[{'type': 'surface'}]*n_cols]*n_rows, )\n",
    "# First polar angle\n",
    "mesh_plot = gmm.add_plotly_surface(\n",
    "    data=polar_angle_data, \n",
    "    data_mask=data_mask, \n",
    "    cmap='marco_pol', \n",
    "    vmin=-3.14, \n",
    "    vmax=3.14,\n",
    "    return_mesh_obj=True,\n",
    ")\n",
    "fig.append_trace(mesh_plot[0], row=1, col=1) # Add left hemisphere\n",
    "# fig.append_trace(mesh_plot[1], row=1, col=1) # Add right hemisphere\n",
    "\n",
    "# Same again for eccentricity\n",
    "mesh_plot = gmm.add_plotly_surface(\n",
    "    data=eccentricity_data, \n",
    "    data_mask=data_mask, \n",
    "    cmap='ecc', \n",
    "    vmin=0, \n",
    "    vmax=5,\n",
    "    return_mesh_obj=True,\n",
    ")\n",
    "fig.append_trace(mesh_plot[0], row=1, col=2) # Add left hemisphere\n",
    "# fig.append_trace(mesh_plot[1], row=1, col=2) # Add right hemisphere\n"
   ]
  },
  {
   "cell_type": "code",
   "execution_count": null,
   "metadata": {},
   "outputs": [],
   "source": [
    "\n",
    "# Now show the figure inline in the notebook\n",
    "# Play around with the different surfaces\n",
    "fig.show() # show inline\n",
    "# fig.show(renderer='browser') # show with browser\n"
   ]
  },
  {
   "cell_type": "code",
   "execution_count": null,
   "metadata": {},
   "outputs": [],
   "source": [
    "\n",
    "\n",
    "# You can also create an HTML file. Save it and open it with your browser\n",
    "fig.write_html('z_eg_plotly_html')"
   ]
  },
  {
   "cell_type": "markdown",
   "metadata": {},
   "source": [
    "***"
   ]
  },
  {
   "cell_type": "markdown",
   "metadata": {},
   "source": [
    "### Generic .ply format\n",
    "* requires freesurfer + any software capable of opening .ply files. My suggestion is MeshLab\n",
    "* Specify the data, the mesh, and the mask (including an option for variable transparency). \n",
    "* can create a single .ply file (per hemisphere), which contains all the information about the mesh (vx coordinates, face id); the data values for each vertex, and a color value for each vertex (determined by the data, and specified colormap). \n",
    "* This can be opened by most 3D viewing software (e.g., meshlab, blender)...\n"
   ]
  },
  {
   "cell_type": "code",
   "execution_count": null,
   "metadata": {},
   "outputs": [],
   "source": [
    "from dag_prf_utils.mesh_maker import GenMeshMaker\n",
    "# Make the 'generic mesh maker' instance\n",
    "gmm = GenMeshMaker(\n",
    "    sub=sub, \n",
    "    fs_dir=fs_dir,\n",
    "    output_dir='gmm_ply') \n",
    "\n",
    "# Create the .ply surfaces\n",
    "gmm.add_ply_surface(\n",
    "    surf_name='polar-angle',\n",
    "    data=polar_angle_data, \n",
    "    data_mask=data_mask, \n",
    "    cmap='marco_pol', \n",
    "    vmin=-3.14, \n",
    "    vmax=3.14,\n",
    ")\n",
    "\n",
    "# Same again for eccentricity\n",
    "gmm.add_ply_surface(\n",
    "    surf_name='eccentricity',\n",
    "    data=eccentricity_data, \n",
    "    data_mask=data_mask, \n",
    "    cmap='ecc', \n",
    "    vmin=0, \n",
    "    vmax=5,\n",
    ")"
   ]
  },
  {
   "cell_type": "code",
   "execution_count": null,
   "metadata": {},
   "outputs": [],
   "source": [
    "# Open them with your software of choice\n",
    "gmm.open_ply_mlab() # e.g., meshlab"
   ]
  },
  {
   "attachments": {},
   "cell_type": "markdown",
   "metadata": {},
   "source": [
    "***"
   ]
  },
  {
   "attachments": {},
   "cell_type": "markdown",
   "metadata": {},
   "source": [
    "### Blender\n",
    "* requires freesurfer and blender\n",
    "* This is the most powerful approach and allows for a lot of customization (due to the blender api flexibility, which can be called via python)\n",
    "* The script will load the inflated and pial mesh, with the option to slide between the 2 (i.e. customize how inflated you want the surface to be)\n",
    "* You can load several colormaps at once, and flip between them \n",
    "* If you are feeling adventurous, you can even create an animation over time, (e.g., plot timecourse info on the surface). This is a bit experimental, and may take up a lot of data and computing power. I haven't fully explored it. \n"
   ]
  },
  {
   "cell_type": "code",
   "execution_count": null,
   "metadata": {},
   "outputs": [],
   "source": [
    "from dag_prf_utils.blender_tools import BlendMaker\n",
    "bm = BlendMaker(\n",
    "    sub=sub,\n",
    "    fs_dir=fs_dir,\n",
    "    output_dir='where/to/save/the/blender/files',    \n",
    ")\n",
    "# This will create a folder with 4 .ply meshes\n",
    "# -> left-inflated, right-inflated, left-pial, right-pial\n",
    "# & 2 csv files with rgb information for:\n",
    "# -> cortical curvature, cortical thickness"
   ]
  },
  {
   "cell_type": "code",
   "execution_count": null,
   "metadata": {},
   "outputs": [],
   "source": [
    "\n",
    "# Add polar angle plot\n",
    "bm.add_blender_cmap(\n",
    "    data=polar_angle_data,\n",
    "    surf_name=f'{sub}-polar_angle',\n",
    "    data_mask=data_mask,\n",
    "    # data_alpha=data_alpha,\n",
    "    vmin = -3.14, vmax=3.14, # min and max values of polar anlge \n",
    "    cmap = 'marco_pol',\n",
    ")\n",
    "# Add eccentricity\n",
    "bm.add_blender_cmap(\n",
    "    data=eccentricity_data,\n",
    "    surf_name=f'{sub}-ecc',\n",
    "    data_mask=data_mask,\n",
    "    # data_alpha=data_alpha,\n",
    "    vmin = 0, vmax=5, # min and max values of polar anlge \n",
    "    cmap = 'ecc',\n",
    ")\n",
    "\n",
    "# This will add 2 more csv files with rgb information for:\n",
    "# -> polar_angle, and eccentricity\n",
    "# If the alpha is too blurry, just use data mask..."
   ]
  },
  {
   "cell_type": "code",
   "execution_count": null,
   "metadata": {},
   "outputs": [],
   "source": [
    "# Now we can launch blender, and load in the .ply files and the rgb data...\n",
    "bm.launch_blender() # creates a startup script for the blender file\n",
    "# navigate to the output directory and run:\n",
    "# blender --python blender_script.py\n",
    "# If you have issues check the blender_script.py for errors (common issue is the path)"
   ]
  },
  {
   "attachments": {},
   "cell_type": "markdown",
   "metadata": {},
   "source": [
    "This may take a while. But once it is done, you can save everything together as one .blender file. You can open this file on its own, and everything will load very quickly. (so you only need to run this once, unless you change the data...)\n",
    "\n",
    "You can then do a number of cool things:\n",
    "\n",
    "* Inflate & deflate the hemispheres:    \n",
    "    * Select the hemisphere (click on it; it should then have an orange line outlining it). \n",
    "    * Click on the green triangle on the panel on the right\n",
    "    * Got to \"shape keys\"\n",
    "    * Click on interpolated\n",
    "    * There is a slider named \"Value\". Change the value here from 0-1 to inflate & deflate the hemisphere\n",
    "* Switch between different plots:\n",
    "    * Select the hemisphere (click on it)\n",
    "    * Click on the green triangle on the panel on the right\n",
    "    * Go to color attributes\n",
    "    * Click on what you want to show on the surface (e.g., polar_angle, curvature etc.)"
   ]
  },
  {
   "attachments": {},
   "cell_type": "markdown",
   "metadata": {},
   "source": [
    "***"
   ]
  },
  {
   "attachments": {},
   "cell_type": "markdown",
   "metadata": {},
   "source": [
    "# A quick note on colormaps\n",
    "You can use any colormap specified in (https://matplotlib.org/stable/tutorials/colors/colormaps.html)\n",
    "\n",
    "I also have a function which allows you to use a color picker to work out a nice custom colormap, and then save it. \n",
    "In bash try running:\n",
    "> dag_cmap_maker --vmin -3.14 --vmax 3.14 --n_steps 9 \n",
    "\n",
    "\n",
    "You will see a plot with a random colormap. You can click on any of the points in the rgb graph, and move them around. When you are happy, close the window, and you will see the option to save the colormap in the bash terminal. This will put everything into a .json (cmaps.json). This toolbox will be able to reconstruct this anytime you want. (using dag_get_cmap)\n",
    "\n",
    "This example could help you make a custom polar angle map. \n",
    "\n",
    "Also see below how you can create your own custom colormap from lists of colors."
   ]
  },
  {
   "cell_type": "code",
   "execution_count": 1,
   "metadata": {},
   "outputs": [
    {
     "data": {
      "image/png": "[encoded data removed]",
      "text/plain": [
       "<Figure size 432x288 with 1 Axes>"
      ]
     },
     "metadata": {
      "needs_background": "light"
     },
     "output_type": "display_data"
    },
    {
     "data": {
      "image/png": "[encoded data removed]",
      "text/plain": [
       "<Figure size 432x288 with 1 Axes>"
      ]
     },
     "metadata": {
      "needs_background": "light"
     },
     "output_type": "display_data"
    },
    {
     "data": {
      "image/png": "[encoded data removed]",
      "text/plain": [
       "<Figure size 432x288 with 1 Axes>"
      ]
     },
     "metadata": {
      "needs_background": "light"
     },
     "output_type": "display_data"
    }
   ],
   "source": [
    "from dag_prf_utils.plot_functions import *\n",
    "\n",
    "demo_mat = np.ones((10,100)) * np.arange(100)\n",
    "# You can load any of the defualt colormaps that exist in matplotlib\n",
    "eg_default_cmaps = {}\n",
    "eg_default_cmaps['jet'] = dag_get_cmap('jet')\n",
    "eg_default_cmaps['jet_r'] = dag_get_cmap('jet_r')\n",
    "eg_default_cmaps['hsv'] = dag_get_cmap('hsv')\n",
    "\n",
    "for eg_cmap in ['jet', 'jet_r', 'hsv']:\n",
    "    plt.figure()\n",
    "    plt.imshow(demo_mat, cmap=eg_default_cmaps[eg_cmap])\n",
    "    plt.title(eg_cmap)\n"
   ]
  },
  {
   "cell_type": "code",
   "execution_count": null,
   "metadata": {},
   "outputs": [],
   "source": [
    "# To create a custom color map:\n",
    "# [1] cmap_name             name of your new cmap\n",
    "# [2] col_list              list of colors (any length, just doing 3 here to keep it simple)\n",
    "# [3] (optional) col_steps  list of numbers (how to space the list of colors...)\n",
    "\n",
    "cmap_name = 'custom_cmap1'\n",
    "col_list = [\n",
    "    (255,0,0),\n",
    "    (0,255,0),\n",
    "    (0, 0, 0)\n",
    "]\n",
    "\n",
    "# Put this together in a dictionary:\n",
    "cmap1 = dag_get_cmap(\n",
    "    cmap_name=cmap_name,\n",
    "    col_list=col_list,\n",
    ")\n",
    "plt.figure()\n",
    "plt.imshow(demo_mat, cmap=cmap1)\n",
    "plt.title('custom 1')\n",
    "\n",
    "\n",
    "# You can also specify the spacing of the colors using a third component: col_steps\n",
    "cmap2 = dag_get_cmap(\n",
    "    cmap_name=cmap_name,\n",
    "    col_list=col_list,\n",
    "    col_steps=[0,.1,2]    \n",
    ")\n",
    "plt.figure()\n",
    "plt.imshow(demo_mat, cmap=cmap2)\n",
    "plt.title('Squish and stretch the cmap using col_steps')\n",
    "\n",
    "\n",
    "# Nonlinear spacing\n",
    "cmap3 = dag_get_cmap(\n",
    "    cmap_name=cmap_name,\n",
    "    col_list=col_list,\n",
    "    col_steps=[0,1.9,2]    \n",
    ")\n",
    "plt.figure()\n",
    "plt.imshow(demo_mat, cmap=cmap3)\n",
    "plt.title('Squish and stretch the cmap using col_steps')"
   ]
  },
  {
   "cell_type": "code",
   "execution_count": 2,
   "metadata": {},
   "outputs": [
    {
     "data": {
      "text/plain": [
       "Text(0.5, 1.0, 'Using HEX colors')"
      ]
     },
     "execution_count": 2,
     "metadata": {},
     "output_type": "execute_result"
    },
    {
     "data": {
      "image/png": "[encoded data removed]",
      "text/plain": [
       "<Figure size 432x288 with 1 Axes>"
      ]
     },
     "metadata": {
      "needs_background": "light"
     },
     "output_type": "display_data"
    },
    {
     "data": {
      "image/png": "[encoded data removed]",
      "text/plain": [
       "<Figure size 432x288 with 1 Axes>"
      ]
     },
     "metadata": {
      "needs_background": "light"
     },
     "output_type": "display_data"
    },
    {
     "data": {
      "image/png": "[encoded data removed]",
      "text/plain": [
       "<Figure size 432x288 with 1 Axes>"
      ]
     },
     "metadata": {
      "needs_background": "light"
     },
     "output_type": "display_data"
    }
   ],
   "source": [
    "# This also supports a variety of ways of defining colors:\n",
    "cmap = dag_get_cmap(\n",
    "    cmap_name='blah',\n",
    "    col_list = ['r', 'b', 'c'],\n",
    ")\n",
    "plt.figure()\n",
    "plt.imshow(demo_mat, cmap=cmap)\n",
    "plt.title('Using matplotlib color letters')\n",
    "\n",
    "\n",
    "cmap = dag_get_cmap(\n",
    "    cmap_name='blah',\n",
    "    col_list = ['red', 'cyan', 'green'],)\n",
    "plt.figure()\n",
    "plt.imshow(demo_mat, cmap=cmap)\n",
    "plt.title('Using matplotlib color names')\n",
    "\n",
    "cmap = dag_get_cmap(\n",
    "    cmap_name='blah',\n",
    "    col_list = ['#1b9e77','#d95f02','#7570b3'])\n",
    "plt.figure()\n",
    "plt.imshow(demo_mat, cmap=cmap)\n",
    "plt.title('Using HEX colors')\n",
    "\n"
   ]
  }
 ],
 "metadata": {
  "kernelspec": {
   "display_name": "ls_dag",
   "language": "python",
   "name": "python3"
  },
  "language_info": {
   "codemirror_mode": {
    "name": "ipython",
    "version": 3
   },
   "file_extension": ".py",
   "mimetype": "text/x-python",
   "name": "python",
   "nbconvert_exporter": "python",
   "pygments_lexer": "ipython3",
   "version": "3.9.16"
  },
  "orig_nbformat": 4
 },
 "nbformat": 4,
 "nbformat_minor": 2
}
