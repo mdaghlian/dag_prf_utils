{
 "cells": [
  {
   "attachments": {},
   "cell_type": "markdown",
   "metadata": {},
   "source": [
    "# dag_prf_utils demos\n",
    "\n",
    "Easy (and hacky!!) way to import freesurfer ROIs into pycortex\n",
    "\n",
    "BEFORE YOU DO THIS MAKE SURE TO BACK UP ANY KIND OF PYCORTEX STUFF YOU DON'T WANT OVERWRITTEN!!!\n",
    "\n",
    "Why would you do this? Because pycortex is beautiful, but you are lazy... \n",
    "\n",
    "It is really nice to be able to toggle the ROIs on and off in pycortex viewer; but to do this you have to have them defined on the svg. To define them on the SVG, you need to draw them in inkscape. But maybe you already used freesurfer, and don't want to... whatever\n",
    "\n",
    "This helps with that...\n",
    "\n",
    "\n",
    "TODO: add option for generic boolean array... not just freesurfer"
   ]
  },
  {
   "cell_type": "code",
   "execution_count": null,
   "metadata": {},
   "outputs": [],
   "source": [
    "%load_ext autoreload\n",
    "%autoreload 2\n",
    "import numpy as np\n",
    "import os\n"
   ]
  },
  {
   "cell_type": "code",
   "execution_count": null,
   "metadata": {},
   "outputs": [],
   "source": [
    "sub = 'sub-01'                                      # Subject number\n",
    "fs_dir = '~/home/project1/derivatives/freesurfer'   # e.g., /home/project1/derivatives/freesurfer\n",
    "ctx_dir = '~/home/project1/derivatives/pycortex' # e.g., /home/project1/derivatives/freesurfer/label\n",
    "\n"
   ]
  },
  {
   "cell_type": "code",
   "execution_count": null,
   "metadata": {},
   "outputs": [],
   "source": [
    "from dag_prf_utils.pycortex import set_ctx_path,PyctxMaker\n",
    "\n",
    "# Make sure pycortex is pointing to correct folder\n",
    "# set_ctx_path('/path/to/pycortex/files')\n",
    "\n",
    "pm = PyctxMaker(\n",
    "    sub = sub,\n",
    "    fs_dir = fs_dir, \n",
    "    ctx_path='/path/to/pycortex/files'\n",
    "    )\n"
   ]
  },
  {
   "cell_type": "markdown",
   "metadata": {},
   "source": [
    "## Fake flattenting\n",
    "Already got flatmaps? then skip this stage\n",
    "\n",
    "Pycortex needs flatmaps. In the form of flat_lh.gii etc. in the pycortex folder for that subject. If you are very lazy (like me) and don't want to go through the trouble of flattening - i offer a way to \"fake\" flatten the data. In brief I:\n",
    "\n",
    "[1] Take the coordinates for the vertices from \"sphere\" surface (i.e., inflated to a sphere) \n",
    "\n",
    "[2] Treat this brain sphere like a globe; and transform the coordinates to 2D, using the \"latitude\" and \"longitude\" \n",
    "\n",
    "[3] Find the faces which are now stretched and cut them... Thats it basically"
   ]
  },
  {
   "cell_type": "code",
   "execution_count": null,
   "metadata": {},
   "outputs": [],
   "source": [
    "pm.make_fake_flat_map()\n",
    "# Should save the .gii files"
   ]
  },
  {
   "cell_type": "markdown",
   "metadata": {},
   "source": [
    "## Add the ROIs\n",
    "To add ROIs we \n",
    "\n",
    "[1] Load the boolean array from freesurfer\n",
    "\n",
    "[2] Find the vertices on the edge of ROIs\n",
    "\n",
    "[3] Find the order for these vertices \n",
    "\n",
    "[4] Draw them onto our SVG file"
   ]
  },
  {
   "cell_type": "code",
   "execution_count": null,
   "metadata": {},
   "outputs": [],
   "source": [
    "roi_list = ['V1', 'V2', 'V3'] # roi names in you're freesurfer label folder\n",
    "pm.add_rois_to_svg(roi_list)"
   ]
  }
 ],
 "metadata": {
  "kernelspec": {
   "display_name": "ls_dag",
   "language": "python",
   "name": "python3"
  },
  "language_info": {
   "codemirror_mode": {
    "name": "ipython",
    "version": 3
   },
   "file_extension": ".py",
   "mimetype": "text/x-python",
   "name": "python",
   "nbconvert_exporter": "python",
   "pygments_lexer": "ipython3",
   "version": "3.9.16"
  },
  "orig_nbformat": 4
 },
 "nbformat": 4,
 "nbformat_minor": 2
}
